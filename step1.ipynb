{
 "cells": [
  {
   "cell_type": "code",
   "execution_count": 1,
   "metadata": {},
   "outputs": [],
   "source": [
    "from selenium import webdriver\n",
    "import time\n",
    "from PIL import Image\n",
    "driver = webdriver.Chrome('C:\\\\Users\\\\USER\\Desktop\\\\test\\\\chromedriver.exe')\n",
    "\n",
    "driver.implicitly_wait(60)\n",
    "driver.get('http://irs.thsrc.com.tw/IMINT/')\n",
    "driver.find_element_by_id('btn-confirm').click()\n",
    "time.sleep(3)\n",
    "driver.save_screenshot('test.png')\n",
    "\n",
    "\n",
    "element = driver.find_element_by_id('BookingS1Form_homeCaptcha_passCode')\n",
    "\n",
    "left = element.location['x']\n",
    "right = element.location['x'] + element.size['width']\n",
    "top = element.location['y']\n",
    "bottom = element.location['y'] + element.size['height']\n",
    "\n",
    "img = Image.open('test.png')\n",
    "# img.show()\n",
    "img = img.crop((left, top, right, bottom))\n",
    "\n",
    "img.save('captua.png', 'png')\n"
   ]
  },
  {
   "cell_type": "code",
   "execution_count": null,
   "metadata": {},
   "outputs": [],
   "source": []
  }
 ],
 "metadata": {
  "kernelspec": {
   "display_name": "Python 2",
   "language": "python",
   "name": "python2"
  },
  "language_info": {
   "codemirror_mode": {
    "name": "ipython",
    "version": 2
   },
   "file_extension": ".py",
   "mimetype": "text/x-python",
   "name": "python",
   "nbconvert_exporter": "python",
   "pygments_lexer": "ipython2",
   "version": "2.7.16"
  }
 },
 "nbformat": 4,
 "nbformat_minor": 2
}
