{
 "cells": [
  {
   "cell_type": "code",
   "execution_count": 45,
   "metadata": {},
   "outputs": [],
   "source": [
    "import cv2"
   ]
  },
  {
   "cell_type": "code",
   "execution_count": 46,
   "metadata": {},
   "outputs": [
    {
     "data": {
      "image/png": "[encoded data removed]",
      "text/plain": [
       "<PIL.PngImagePlugin.PngImageFile image mode=RGBA size=432x288 at 0x9941E70>"
      ]
     },
     "execution_count": 46,
     "metadata": {},
     "output_type": "execute_result"
    }
   ],
   "source": [
    "import requests\n",
    "from PIL import Image\n",
    "image = Image.open('captua.png')\n",
    "image"
   ]
  },
  {
   "cell_type": "code",
   "execution_count": 47,
   "metadata": {},
   "outputs": [],
   "source": [
    "import PIL\n",
    "import numpy\n",
    "pil_image = PIL.Image.open('captua.png').convert('RGB')\n",
    "open_cv_image = numpy.array(pil_image)"
   ]
  },
  {
   "cell_type": "code",
   "execution_count": 48,
   "metadata": {},
   "outputs": [
    {
     "name": "stdout",
     "output_type": "stream",
     "text": [
      "Populating the interactive namespace from numpy and matplotlib\n"
     ]
    },
    {
     "data": {
      "text/plain": [
       "<matplotlib.image.AxesImage at 0x9ba9250>"
      ]
     },
     "execution_count": 48,
     "metadata": {},
     "output_type": "execute_result"
    },
    {
     "data": {
      "image/png": "[encoded data removed]",
      "text/plain": [
       "<Figure size 432x288 with 1 Axes>"
      ]
     },
     "metadata": {
      "needs_background": "light"
     },
     "output_type": "display_data"
    }
   ],
   "source": [
    "%pylab inline\n",
    "from matplotlib import pyplot as plt\n",
    "plt.imshow(open_cv_image)"
   ]
  },
  {
   "cell_type": "code",
   "execution_count": 49,
   "metadata": {},
   "outputs": [],
   "source": [
    "imgray = cv2.cvtColor(open_cv_image, cv2.COLOR_RGB2GRAY)\n",
    "ret, thresh = cv2.threshold(imgray, 127, 255, 0)\n",
    "image, contours, hierarchy = cv2.findContours(thresh, cv2.RETR_TREE, cv2.CHAIN_APPROX_SIMPLE)"
   ]
  },
  {
   "cell_type": "code",
   "execution_count": 50,
   "metadata": {},
   "outputs": [],
   "source": [
    "cnts = sorted([(c, cv2.boundingRect(c)[0]) for c in contours], key=lambda x:x[1])"
   ]
  },
  {
   "cell_type": "code",
   "execution_count": 51,
   "metadata": {},
   "outputs": [
    {
     "name": "stdout",
     "output_type": "stream",
     "text": [
      "(1, 1, 430, 286)\n",
      "(34, 182, 9, 10)\n",
      "(35, 163, 5, 3)\n",
      "(35, 156, 6, 7)\n",
      "(35, 135, 6, 5)\n",
      "(35, 130, 5, 3)\n",
      "(35, 105, 6, 10)\n",
      "(36, 184, 3, 3)\n",
      "(37, 134, 3, 3)\n",
      "(38, 162, 3, 3)\n",
      "(38, 131, 3, 5)\n",
      "(40, 157, 3, 8)\n",
      "(40, 131, 3, 8)\n",
      "(40, 106, 3, 8)\n",
      "(41, 188, 5, 4)\n",
      "(41, 182, 5, 4)\n",
      "(41, 162, 5, 4)\n",
      "(41, 156, 5, 4)\n",
      "(41, 137, 5, 3)\n",
      "(41, 130, 5, 3)\n",
      "(41, 112, 5, 3)\n",
      "(41, 105, 5, 3)\n",
      "(41, 80, 3, 8)\n",
      "(42, 86, 4, 3)\n",
      "(42, 79, 4, 3)\n",
      "(44, 184, 3, 6)\n",
      "(44, 158, 3, 6)\n",
      "(44, 131, 3, 8)\n",
      "(44, 106, 3, 8)\n",
      "(44, 85, 3, 3)\n",
      "(44, 80, 3, 3)\n",
      "(45, 82, 3, 4)\n",
      "(51, 81, 340, 128)\n",
      "(53, 211, 3, 8)\n",
      "(54, 217, 4, 3)\n",
      "(54, 210, 4, 3)\n",
      "(55, 92, 334, 99)\n",
      "(56, 216, 3, 3)\n",
      "(56, 211, 3, 3)\n",
      "(57, 213, 3, 4)\n",
      "(62, 121, 2, 3)\n",
      "(101, 175, 2, 3)\n",
      "(102, 215, 6, 5)\n",
      "(102, 210, 5, 3)\n",
      "(104, 214, 3, 3)\n",
      "(105, 211, 3, 5)\n",
      "(105, 117, 5, 5)\n",
      "(107, 211, 3, 8)\n",
      "(108, 217, 5, 3)\n",
      "(108, 210, 5, 3)\n",
      "(109, 175, 2, 3)\n",
      "(110, 125, 23, 33)\n",
      "(111, 211, 3, 8)\n",
      "(122, 173, 2, 2)\n",
      "(136, 161, 5, 5)\n",
      "(144, 146, 4, 4)\n",
      "(152, 210, 9, 10)\n",
      "(154, 212, 3, 3)\n",
      "(159, 216, 5, 4)\n",
      "(159, 210, 5, 4)\n",
      "(162, 212, 3, 6)\n",
      "(167, 156, 5, 5)\n",
      "(170, 161, 4, 5)\n",
      "(175, 159, 5, 4)\n",
      "(178, 164, 4, 5)\n",
      "(183, 167, 4, 4)\n",
      "(193, 128, 5, 4)\n",
      "(205, 211, 8, 9)\n",
      "(206, 210, 5, 3)\n",
      "(206, 120, 5, 5)\n",
      "(211, 217, 5, 3)\n",
      "(211, 210, 5, 3)\n",
      "(211, 115, 5, 4)\n",
      "(214, 211, 3, 8)\n",
      "(248, 107, 51, 7)\n",
      "(256, 167, 4, 4)\n",
      "(257, 214, 6, 6)\n",
      "(257, 211, 3, 4)\n",
      "(258, 210, 5, 7)\n",
      "(258, 99, 5, 5)\n",
      "(261, 211, 4, 8)\n",
      "(263, 216, 5, 4)\n",
      "(263, 210, 5, 4)\n",
      "(266, 212, 3, 6)\n",
      "(266, 99, 5, 5)\n",
      "(275, 129, 2, 2)\n",
      "(276, 120, 5, 5)\n",
      "(276, 102, 5, 4)\n",
      "(295, 117, 4, 5)\n",
      "(305, 112, 4, 5)\n",
      "(306, 210, 6, 10)\n",
      "(311, 211, 3, 8)\n",
      "(312, 217, 5, 3)\n",
      "(312, 210, 5, 3)\n",
      "(314, 126, 2, 3)\n",
      "(315, 211, 3, 8)\n",
      "(315, 167, 5, 7)\n",
      "(317, 212, 3, 6)\n",
      "(318, 216, 5, 4)\n",
      "(318, 210, 5, 4)\n",
      "(318, 159, 4, 7)\n",
      "(319, 129, 2, 2)\n",
      "(321, 211, 3, 8)\n",
      "(323, 117, 5, 5)\n",
      "(327, 108, 2, 3)\n",
      "(331, 115, 4, 4)\n",
      "(357, 210, 6, 10)\n",
      "(362, 216, 7, 4)\n",
      "(362, 210, 7, 5)\n",
      "(364, 215, 3, 3)\n",
      "(365, 213, 3, 4)\n",
      "(368, 213, 3, 4)\n",
      "(369, 216, 3, 3)\n",
      "(369, 211, 3, 3)\n",
      "(370, 217, 4, 3)\n",
      "(370, 210, 4, 3)\n",
      "(372, 211, 3, 8)\n"
     ]
    }
   ],
   "source": [
    "ary = []\n",
    "for (c,_) in cnts:\n",
    "    (x, y, w, h) = cv2.boundingRect(c)\n",
    "    print((x, y, w, h))\n",
    "    if w >= 15 and h>=24:\n",
    "        ary.append((x, y, w, h))"
   ]
  },
  {
   "cell_type": "code",
   "execution_count": 52,
   "metadata": {},
   "outputs": [
    {
     "name": "stdout",
     "output_type": "stream",
     "text": [
      "[(1, 1, 430, 286), (51, 81, 340, 128), (55, 92, 334, 99), (110, 125, 23, 33)]\n"
     ]
    }
   ],
   "source": [
    "print(ary)"
   ]
  },
  {
   "cell_type": "code",
   "execution_count": 53,
   "metadata": {},
   "outputs": [
    {
     "name": "stdout",
     "output_type": "stream",
     "text": [
      "Populating the interactive namespace from numpy and matplotlib\n"
     ]
    },
    {
     "data": {
      "text/plain": [
       "<matplotlib.image.AxesImage at 0x9e731f0>"
      ]
     },
     "execution_count": 53,
     "metadata": {},
     "output_type": "execute_result"
    },
    {
     "data": {
      "image/png": "[encoded data removed]",
      "text/plain": [
       "<Figure size 432x288 with 1 Axes>"
      ]
     },
     "metadata": {
      "needs_background": "light"
     },
     "output_type": "display_data"
    }
   ],
   "source": [
    "%pylab inline\n",
    "plt.imshow(open_cv_image)"
   ]
  },
  {
   "cell_type": "code",
   "execution_count": 54,
   "metadata": {},
   "outputs": [
    {
     "data": {
      "text/plain": [
       "[(1, 1, 430, 286), (51, 81, 340, 128), (55, 92, 334, 99), (110, 125, 23, 33)]"
      ]
     },
     "execution_count": 54,
     "metadata": {},
     "output_type": "execute_result"
    }
   ],
   "source": [
    "ary"
   ]
  },
  {
   "cell_type": "code",
   "execution_count": 55,
   "metadata": {},
   "outputs": [
    {
     "data": {
      "image/png": "[encoded data removed]",
      "text/plain": [
       "<Figure size 432x288 with 4 Axes>"
      ]
     },
     "metadata": {
      "needs_background": "light"
     },
     "output_type": "display_data"
    }
   ],
   "source": [
    "from matplotlib import pyplot as plt\n",
    "fig = plt.figure()\n",
    "for id, (x, y, w, h) in enumerate(ary):\n",
    "    roi = open_cv_image[y:y+h, x:x+w]\n",
    "    thresh = roi.copy()\n",
    "    a = fig.add_subplot(1, len(ary), id+1)\n",
    "    plt.imshow(thresh)"
   ]
  },
  {
   "cell_type": "code",
   "execution_count": 56,
   "metadata": {},
   "outputs": [
    {
     "data": {
      "image/png": "[encoded data removed]",
      "text/plain": [
       "<Figure size 432x288 with 1 Axes>"
      ]
     },
     "metadata": {
      "needs_background": "light"
     },
     "output_type": "display_data"
    },
    {
     "data": {
      "image/png": "[encoded data removed]",
      "text/plain": [
       "<Figure size 432x288 with 1 Axes>"
      ]
     },
     "metadata": {
      "needs_background": "light"
     },
     "output_type": "display_data"
    },
    {
     "data": {
      "image/png": "[encoded data removed]",
      "text/plain": [
       "<Figure size 432x288 with 1 Axes>"
      ]
     },
     "metadata": {
      "needs_background": "light"
     },
     "output_type": "display_data"
    },
    {
     "data": {
      "image/png": "[encoded data removed]",
      "text/plain": [
       "<Figure size 432x288 with 1 Axes>"
      ]
     },
     "metadata": {
      "needs_background": "light"
     },
     "output_type": "display_data"
    }
   ],
   "source": [
    "from matplotlib import pyplot as plt\n",
    "for id, (x, y, w, h) in enumerate(ary):\n",
    "    fig = plt.figure()\n",
    "    roi = open_cv_image[y:y+h, x:x+w]\n",
    "    thresh = roi.copy()\n",
    "    plt.imshow(thresh)\n",
    "    plt.savefig('{}.png'.format(id+1), dpi=100)\n",
    "  "
   ]
  },
  {
   "cell_type": "code",
   "execution_count": null,
   "metadata": {},
   "outputs": [],
   "source": []
  },
  {
   "cell_type": "code",
   "execution_count": null,
   "metadata": {},
   "outputs": [],
   "source": []
  },
  {
   "cell_type": "code",
   "execution_count": null,
   "metadata": {},
   "outputs": [],
   "source": []
  }
 ],
 "metadata": {
  "kernelspec": {
   "display_name": "Python 2",
   "language": "python",
   "name": "python2"
  },
  "language_info": {
   "codemirror_mode": {
    "name": "ipython",
    "version": 2
   },
   "file_extension": ".py",
   "mimetype": "text/x-python",
   "name": "python",
   "nbconvert_exporter": "python",
   "pygments_lexer": "ipython2",
   "version": "2.7.16"
  }
 },
 "nbformat": 4,
 "nbformat_minor": 2
}
