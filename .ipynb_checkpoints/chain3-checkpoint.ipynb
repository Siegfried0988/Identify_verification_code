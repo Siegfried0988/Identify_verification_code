{
 "cells": [
  {
   "cell_type": "code",
   "execution_count": 2,
   "metadata": {},
   "outputs": [
    {
     "data": {
      "image/png": "[encoded data removed]",
      "text/plain": [
       "<PIL.PngImagePlugin.PngImageFile image mode=RGBA size=432x288 at 0x4423830>"
      ]
     },
     "execution_count": 2,
     "metadata": {},
     "output_type": "execute_result"
    }
   ],
   "source": [
    "import cv2\n",
    "import requests\n",
    "# pip install --upgrade pillow\n",
    "\n",
    "\n",
    "# with open ('kaptch.jpg', 'wb') as f:\n",
    "#     res = requests.get('http://gcis.nat.gov.tw/pub/kaptch.jpg')\n",
    "#     f.write(res.content)\n",
    "from PIL import Image\n",
    "#image = Image.open('C:\\\\Users\\\\USER\\\\Desktop\\\\test\\\\captua1.png')\n",
    "image = Image.open('canCut.png')\n",
    "image"
   ]
  },
  {
   "cell_type": "code",
   "execution_count": 3,
   "metadata": {},
   "outputs": [],
   "source": [
    "import PIL\n",
    "import numpy\n",
    "pil_image = PIL.Image.open('canCut.png').convert('RGB')\n",
    "#pil_image = PIL.Image.open('C:\\\\Users\\\\USER\\\\Desktop\\\\test\\\\captua1.png').convert('RGB')\n",
    "open_cv_image = numpy.array(pil_image)"
   ]
  },
  {
   "cell_type": "code",
   "execution_count": 4,
   "metadata": {},
   "outputs": [
    {
     "name": "stdout",
     "output_type": "stream",
     "text": [
      "Populating the interactive namespace from numpy and matplotlib\n"
     ]
    },
    {
     "data": {
      "text/plain": [
       "<matplotlib.image.AxesImage at 0xbd51bf0>"
      ]
     },
     "execution_count": 4,
     "metadata": {},
     "output_type": "execute_result"
    },
    {
     "data": {
      "image/png": "[encoded data removed]",
      "text/plain": [
       "<Figure size 432x288 with 1 Axes>"
      ]
     },
     "metadata": {
      "needs_background": "light"
     },
     "output_type": "display_data"
    }
   ],
   "source": [
    "%pylab inline\n",
    "from matplotlib import pyplot as plt\n",
    "plt.imshow(open_cv_image)"
   ]
  },
  {
   "cell_type": "code",
   "execution_count": 5,
   "metadata": {},
   "outputs": [],
   "source": [
    "imgray = cv2.cvtColor(open_cv_image, cv2.COLOR_BGR2GRAY)\n",
    "ret, thresh = cv2.threshold(imgray, 127, 255, 0)\n",
    "image, contours, hierarchy = cv2.findContours(thresh, cv2.RETR_TREE, cv2.CHAIN_APPROX_SIMPLE)\n",
    "cnts = sorted([(c, cv2.boundingRect(c)[0]) for c in contours], key = lambda x:x[1])"
   ]
  },
  {
   "cell_type": "code",
   "execution_count": 11,
   "metadata": {},
   "outputs": [
    {
     "name": "stdout",
     "output_type": "stream",
     "text": [
      "(1, 1, 430, 286)\n",
      "(34, 186, 9, 10)\n",
      "(35, 165, 5, 3)\n",
      "(35, 158, 6, 7)\n",
      "(35, 135, 6, 5)\n",
      "(35, 130, 5, 3)\n",
      "(35, 102, 6, 10)\n",
      "(36, 188, 3, 3)\n",
      "(37, 134, 3, 3)\n",
      "(38, 164, 3, 3)\n",
      "(38, 131, 3, 5)\n",
      "(40, 159, 3, 8)\n",
      "(40, 131, 3, 8)\n",
      "(40, 103, 3, 8)\n",
      "(41, 192, 5, 4)\n",
      "(41, 186, 5, 4)\n",
      "(41, 164, 5, 4)\n",
      "(41, 158, 5, 4)\n",
      "(41, 137, 5, 3)\n",
      "(41, 130, 5, 3)\n",
      "(41, 109, 5, 3)\n",
      "(41, 102, 5, 3)\n",
      "(41, 75, 3, 8)\n",
      "(42, 81, 4, 3)\n",
      "(42, 74, 4, 3)\n",
      "(44, 188, 3, 6)\n",
      "(44, 160, 3, 6)\n",
      "(44, 131, 3, 8)\n",
      "(44, 103, 3, 8)\n",
      "(44, 80, 3, 3)\n",
      "(44, 75, 3, 3)\n",
      "(45, 77, 3, 4)\n",
      "(51, 77, 340, 137)\n",
      "(53, 216, 3, 8)\n",
      "(54, 222, 4, 3)\n",
      "(54, 215, 4, 3)\n",
      "(55, 122, 21, 8)\n",
      "(56, 221, 3, 3)\n",
      "(56, 216, 3, 3)\n",
      "(57, 218, 3, 4)\n",
      "(60, 133, 2, 3)\n",
      "(76, 136, 3, 3)\n",
      "(79, 119, 8, 3)\n",
      "(85, 125, 2, 3)\n",
      "(87, 133, 3, 3)\n",
      "(90, 116, 9, 3)\n",
      "(99, 108, 81, 90)\n",
      "(100, 129, 5, 5)\n",
      "(103, 113, 8, 4)\n",
      "(106, 220, 6, 5)\n",
      "(106, 215, 5, 3)\n",
      "(106, 163, 5, 5)\n",
      "(108, 219, 3, 3)\n",
      "(109, 216, 3, 5)\n",
      "(109, 127, 10, 4)\n",
      "(111, 216, 3, 8)\n",
      "(112, 222, 5, 3)\n",
      "(112, 215, 5, 3)\n",
      "(114, 118, 5, 5)\n",
      "(114, 113, 5, 4)\n",
      "(115, 216, 3, 8)\n",
      "(120, 183, 5, 5)\n",
      "(127, 125, 5, 3)\n",
      "(132, 102, 11, 9)\n",
      "(135, 128, 3, 2)\n",
      "(141, 130, 2, 3)\n",
      "(143, 164, 3, 3)\n",
      "(149, 167, 3, 3)\n",
      "(152, 105, 8, 3)\n",
      "(160, 215, 9, 10)\n",
      "(162, 217, 3, 3)\n",
      "(162, 118, 7, 8)\n",
      "(167, 221, 5, 4)\n",
      "(167, 215, 5, 4)\n",
      "(168, 102, 9, 3)\n",
      "(170, 217, 3, 6)\n",
      "(177, 116, 11, 3)\n",
      "(185, 94, 176, 107)\n",
      "(187, 107, 5, 5)\n",
      "(187, 98, 10, 5)\n",
      "(191, 133, 3, 3)\n",
      "(196, 114, 14, 2)\n",
      "(201, 129, 5, 5)\n",
      "(210, 203, 3, 3)\n",
      "(215, 104, 5, 5)\n",
      "(217, 216, 8, 9)\n",
      "(218, 215, 5, 3)\n",
      "(220, 169, 5, 4)\n",
      "(223, 222, 5, 3)\n",
      "(223, 215, 5, 3)\n",
      "(223, 121, 5, 5)\n",
      "(226, 216, 3, 8)\n",
      "(229, 138, 7, 5)\n",
      "(229, 110, 7, 5)\n",
      "(235, 94, 20, 3)\n",
      "(262, 155, 5, 4)\n",
      "(263, 102, 3, 3)\n",
      "(268, 149, 5, 5)\n",
      "(269, 91, 31, 3)\n",
      "(272, 105, 3, 3)\n",
      "(273, 219, 6, 6)\n",
      "(273, 216, 3, 4)\n",
      "(274, 215, 5, 7)\n",
      "(275, 133, 2, 3)\n",
      "(277, 216, 4, 8)\n",
      "(279, 221, 5, 4)\n",
      "(279, 215, 5, 4)\n",
      "(282, 217, 3, 6)\n",
      "(302, 105, 14, 3)\n",
      "(304, 149, 5, 5)\n",
      "(310, 171, 5, 5)\n",
      "(315, 121, 5, 5)\n",
      "(316, 97, 3, 2)\n",
      "(316, 88, 73, 17)\n",
      "(318, 132, 16, 33)\n",
      "(318, 124, 5, 5)\n",
      "(319, 108, 3, 3)\n",
      "(324, 118, 5, 8)\n",
      "(325, 215, 6, 10)\n",
      "(325, 181, 3, 3)\n",
      "(330, 216, 3, 8)\n",
      "(331, 222, 5, 3)\n",
      "(331, 215, 5, 3)\n",
      "(332, 157, 5, 5)\n",
      "(332, 141, 5, 4)\n",
      "(334, 216, 3, 8)\n",
      "(336, 217, 3, 6)\n",
      "(337, 221, 5, 4)\n",
      "(337, 215, 5, 4)\n",
      "(340, 216, 3, 8)\n",
      "(381, 105, 2, 3)\n"
     ]
    }
   ],
   "source": [
    "ary =[]\n",
    "for (c,_) in cnts:\n",
    "    (x, y, w, h) = cv2.boundingRect(c)\n",
    "    print((x, y, w, h))\n",
    "    if w >= 20 and h >=75 and h<=100:\n",
    "    #if w >=15 and h == 25 or h == 26:\n",
    "        ary.append((x, y, w, h))"
   ]
  },
  {
   "cell_type": "code",
   "execution_count": 7,
   "metadata": {},
   "outputs": [
    {
     "name": "stdout",
     "output_type": "stream",
     "text": [
      "[(99, 108, 81, 90)]\n"
     ]
    }
   ],
   "source": [
    "print(ary)"
   ]
  },
  {
   "cell_type": "code",
   "execution_count": 8,
   "metadata": {},
   "outputs": [
    {
     "name": "stdout",
     "output_type": "stream",
     "text": [
      "Populating the interactive namespace from numpy and matplotlib\n"
     ]
    },
    {
     "data": {
      "text/plain": [
       "<matplotlib.image.AxesImage at 0xc064170>"
      ]
     },
     "execution_count": 8,
     "metadata": {},
     "output_type": "execute_result"
    },
    {
     "data": {
      "image/png": "[encoded data removed]",
      "text/plain": [
       "<Figure size 432x288 with 1 Axes>"
      ]
     },
     "metadata": {
      "needs_background": "light"
     },
     "output_type": "display_data"
    }
   ],
   "source": [
    "%pylab inline\n",
    "plt.imshow(open_cv_image)"
   ]
  },
  {
   "cell_type": "code",
   "execution_count": 9,
   "metadata": {},
   "outputs": [
    {
     "data": {
      "image/png": "[encoded data removed]",
      "text/plain": [
       "<Figure size 432x288 with 1 Axes>"
      ]
     },
     "metadata": {
      "needs_background": "light"
     },
     "output_type": "display_data"
    }
   ],
   "source": [
    "from matplotlib import pyplot as plt\n",
    "fig = plt.figure()\n",
    "for id, (x, y, w, h) in enumerate(ary):\n",
    "    roi = open_cv_image[y:y+h, x:x+w]\n",
    "    thresh = roi.copy()\n",
    "    a = fig.add_subplot(1, len(ary), id+1)\n",
    "    plt.imshow(thresh)"
   ]
  },
  {
   "cell_type": "code",
   "execution_count": 10,
   "metadata": {},
   "outputs": [
    {
     "data": {
      "image/png": "[encoded data removed]",
      "text/plain": [
       "<Figure size 432x288 with 1 Axes>"
      ]
     },
     "metadata": {
      "needs_background": "light"
     },
     "output_type": "display_data"
    }
   ],
   "source": [
    "from matplotlib import pyplot as plt\n",
    "for id, (x, y, w, h) in enumerate(ary):\n",
    "    fig = plt.figure()\n",
    "    roi = open_cv_image[y:y+h, x:x+w]\n",
    "    thresh = roi.copy()\n",
    "    plt.imshow(thresh)\n",
    "    plt.savefig('{}.png'.format(id+1), dpi=100)\n",
    "  "
   ]
  },
  {
   "cell_type": "code",
   "execution_count": null,
   "metadata": {},
   "outputs": [],
   "source": []
  },
  {
   "cell_type": "code",
   "execution_count": null,
   "metadata": {},
   "outputs": [],
   "source": []
  },
  {
   "cell_type": "code",
   "execution_count": null,
   "metadata": {},
   "outputs": [],
   "source": []
  }
 ],
 "metadata": {
  "kernelspec": {
   "display_name": "Python 2",
   "language": "python",
   "name": "python2"
  },
  "language_info": {
   "codemirror_mode": {
    "name": "ipython",
    "version": 2
   },
   "file_extension": ".py",
   "mimetype": "text/x-python",
   "name": "python",
   "nbconvert_exporter": "python",
   "pygments_lexer": "ipython2",
   "version": "2.7.16"
  }
 },
 "nbformat": 4,
 "nbformat_minor": 2
}
