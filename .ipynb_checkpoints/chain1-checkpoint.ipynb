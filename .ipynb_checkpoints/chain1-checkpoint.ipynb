{
 "cells": [
  {
   "cell_type": "code",
   "execution_count": 1,
   "metadata": {},
   "outputs": [],
   "source": [
    "from selenium import webdriver\n",
    "import time\n",
    "from PIL import Image\n",
    "driver = webdriver.Chrome('C:\\\\Users\\\\USER\\Desktop\\\\test\\\\chromedriver.exe')\n",
    "\n",
    "driver.implicitly_wait(60)\n",
    "driver.get('http://irs.thsrc.com.tw/IMINT/')\n",
    "driver.find_element_by_id('btn-confirm').click()\n",
    "time.sleep(3)\n",
    "driver.save_screenshot('test.png')\n",
    "\n",
    "\n",
    "element = driver.find_element_by_id('BookingS1Form_homeCaptcha_passCode')\n",
    "\n",
    "left = element.location['x']\n",
    "right = element.location['x'] + element.size['width']\n",
    "top = element.location['y']\n",
    "bottom = element.location['y'] + element.size['height']\n",
    "\n",
    "img = Image.open('test.png')\n",
    "# img.show()\n",
    "img = img.crop((left, top, right, bottom))\n",
    "\n",
    "img.save('captua.png', 'png')\n"
   ]
  },
  {
   "cell_type": "code",
   "execution_count": 2,
   "metadata": {},
   "outputs": [
    {
     "data": {
      "image/png": "[encoded data removed]",
      "text/plain": [
       "<PIL.PngImagePlugin.PngImageFile image mode=RGBA size=133x53 at 0x5566E50>"
      ]
     },
     "execution_count": 2,
     "metadata": {},
     "output_type": "execute_result"
    }
   ],
   "source": [
    "# import cv2\n",
    "import requests\n",
    "from PIL import Image\n",
    "Image.open('captua.png')"
   ]
  },
  {
   "cell_type": "code",
   "execution_count": 3,
   "metadata": {},
   "outputs": [],
   "source": [
    "import cv2\n",
    "img = cv2.imread('captua.png')"
   ]
  },
  {
   "cell_type": "code",
   "execution_count": 4,
   "metadata": {},
   "outputs": [],
   "source": [
    "dst = cv2.fastNlMeansDenoisingColored(img, None, 30, 30 , 7 , 21)"
   ]
  },
  {
   "cell_type": "code",
   "execution_count": 5,
   "metadata": {},
   "outputs": [
    {
     "data": {
      "text/plain": [
       "<matplotlib.image.AxesImage at 0xbb32b10>"
      ]
     },
     "execution_count": 5,
     "metadata": {},
     "output_type": "execute_result"
    }
   ],
   "source": [
    "import matplotlib.pyplot as plt\n",
    "plt.subplot(121)\n",
    "plt.imshow(img)\n",
    "plt.subplot(122)\n",
    "plt.imshow(dst)"
   ]
  },
  {
   "cell_type": "code",
   "execution_count": 6,
   "metadata": {},
   "outputs": [],
   "source": [
    "ret,thresh = cv2.threshold(dst,127,255,cv2.THRESH_BINARY_INV)"
   ]
  },
  {
   "cell_type": "code",
   "execution_count": 7,
   "metadata": {},
   "outputs": [
    {
     "data": {
      "image/png": "[encoded data removed]",
      "text/plain": [
       "<Figure size 432x288 with 1 Axes>"
      ]
     },
     "metadata": {
      "needs_background": "light"
     },
     "output_type": "display_data"
    }
   ],
   "source": [
    "plt.imshow(thresh)\n",
    "plt.show()"
   ]
  },
  {
   "cell_type": "code",
   "execution_count": 8,
   "metadata": {},
   "outputs": [],
   "source": [
    "imgarr = cv2.cvtColor(thresh, cv2.COLOR_BGR2GRAY)"
   ]
  },
  {
   "cell_type": "code",
   "execution_count": 9,
   "metadata": {},
   "outputs": [
    {
     "data": {
      "text/plain": [
       "array([[0, 0, 0, ..., 0, 0, 0],\n",
       "       [0, 0, 0, ..., 0, 0, 0],\n",
       "       [0, 0, 0, ..., 0, 0, 0],\n",
       "       ...,\n",
       "       [0, 0, 0, ..., 0, 0, 0],\n",
       "       [0, 0, 0, ..., 0, 0, 0],\n",
       "       [0, 0, 0, ..., 0, 0, 0]], dtype=uint8)"
      ]
     },
     "execution_count": 9,
     "metadata": {},
     "output_type": "execute_result"
    }
   ],
   "source": [
    "imgarr"
   ]
  },
  {
   "cell_type": "code",
   "execution_count": 10,
   "metadata": {},
   "outputs": [
    {
     "data": {
      "text/plain": [
       "(53, 133)"
      ]
     },
     "execution_count": 10,
     "metadata": {},
     "output_type": "execute_result"
    }
   ],
   "source": [
    "imgarr.shape"
   ]
  },
  {
   "cell_type": "code",
   "execution_count": 11,
   "metadata": {},
   "outputs": [],
   "source": [
    "imgarr[:,5:115] = 0"
   ]
  },
  {
   "cell_type": "code",
   "execution_count": 12,
   "metadata": {},
   "outputs": [
    {
     "data": {
      "text/plain": [
       "(53, 133)"
      ]
     },
     "execution_count": 12,
     "metadata": {},
     "output_type": "execute_result"
    }
   ],
   "source": [
    "imgarr.shape"
   ]
  },
  {
   "cell_type": "code",
   "execution_count": 13,
   "metadata": {},
   "outputs": [
    {
     "data": {
      "text/plain": [
       "array([[0, 0, 0, ..., 0, 0, 0],\n",
       "       [0, 0, 0, ..., 0, 0, 0],\n",
       "       [0, 0, 0, ..., 0, 0, 0],\n",
       "       ...,\n",
       "       [0, 0, 0, ..., 0, 0, 0],\n",
       "       [0, 0, 0, ..., 0, 0, 0],\n",
       "       [0, 0, 0, ..., 0, 0, 0]], dtype=uint8)"
      ]
     },
     "execution_count": 13,
     "metadata": {},
     "output_type": "execute_result"
    }
   ],
   "source": [
    "imgarr"
   ]
  },
  {
   "cell_type": "code",
   "execution_count": 14,
   "metadata": {},
   "outputs": [],
   "source": [
    "import numpy as np\n",
    "from sklearn.preprocessing import binarize\n",
    "imagedata = np.where(imgarr == 255)"
   ]
  },
  {
   "cell_type": "code",
   "execution_count": 15,
   "metadata": {},
   "outputs": [
    {
     "data": {
      "text/plain": [
       "(array([ 5,  5,  5,  5,  5,  5,  5,  5,  5,  5,  5,  5,  5,  5,  5,  5,  5,\n",
       "         5,  6,  6,  6,  6,  6,  6,  6,  6,  6,  6,  6,  6,  6,  6,  6,  6,\n",
       "         6,  6,  7,  7,  7,  7,  7,  7,  7,  7,  7,  7,  7,  7,  7,  7,  7,\n",
       "         7,  7,  7,  8,  8,  8,  8,  8,  8,  8,  8,  8,  8,  8,  8,  8,  8,\n",
       "         8,  8,  8,  8,  9,  9,  9,  9,  9,  9,  9,  9,  9,  9,  9,  9,  9,\n",
       "         9,  9,  9,  9,  9, 10, 16, 16, 17, 17, 17, 18, 18, 18, 18, 18, 18,\n",
       "        19, 19, 19, 19, 19, 19, 19, 20, 20, 20, 20, 20, 20, 20, 20, 21, 21,\n",
       "        21, 21, 21, 21, 21, 21, 21, 21, 21, 22, 22, 22, 22, 22, 22, 22, 22,\n",
       "        22, 22, 22, 22, 23, 23, 23, 23, 23, 23, 23, 23, 23, 23, 23, 23, 23,\n",
       "        23, 24, 24, 24, 24, 24, 24, 24, 24, 24, 24, 24, 24, 24, 25, 25, 25,\n",
       "        25, 25, 25, 25, 25, 25, 25, 25, 25, 25, 26, 26, 26, 26, 26, 26, 26,\n",
       "        26, 26, 26, 26, 26, 26, 27, 27, 27, 27, 27, 27, 27, 27, 27, 27, 27,\n",
       "        28, 28, 28, 28, 28, 28, 28, 28, 28, 29, 29, 29, 29, 29, 29, 29, 29,\n",
       "        30, 30, 30, 30, 30, 30, 30, 30, 31, 31, 31, 31, 31, 31, 31, 31, 32,\n",
       "        32, 32, 32, 32, 32, 32, 32, 33, 33, 33, 33, 33, 33, 33, 33, 34, 34,\n",
       "        34, 34, 34, 34, 34, 34, 35, 35, 35, 35, 35, 35, 35, 35, 36, 36, 36,\n",
       "        36, 36, 36, 36, 36, 36, 37, 37, 37, 37, 37, 37, 37, 37, 38, 38, 38,\n",
       "        38, 38, 38, 38, 38, 38, 39, 39, 39, 39, 39, 39, 39, 39, 39, 40, 40,\n",
       "        40, 40, 40, 40, 40, 40, 41, 41, 41, 41, 41, 41, 41, 42, 42, 42, 42,\n",
       "        42, 42, 43, 43, 43, 43, 43, 44, 44, 44, 45, 45, 45, 45, 46, 46, 46,\n",
       "        46, 46, 46, 47, 47, 47, 47, 47, 47, 48, 48, 48, 48, 48, 48, 48, 49,\n",
       "        49, 49, 49, 49, 49, 49, 50, 50, 50, 50, 50, 50, 50]),\n",
       " array([115, 116, 117, 118, 119, 120, 121, 122, 123, 124, 125, 126, 127,\n",
       "        128, 129, 130, 131, 132, 115, 116, 117, 118, 119, 120, 121, 122,\n",
       "        123, 124, 125, 126, 127, 128, 129, 130, 131, 132, 115, 116, 117,\n",
       "        118, 119, 120, 121, 122, 123, 124, 125, 126, 127, 128, 129, 130,\n",
       "        131, 132, 115, 116, 117, 118, 119, 120, 121, 122, 123, 124, 125,\n",
       "        126, 127, 128, 129, 130, 131, 132, 115, 116, 117, 118, 119, 120,\n",
       "        121, 122, 123, 124, 125, 126, 127, 128, 129, 130, 131, 132, 123,\n",
       "        115, 116, 116, 117, 118, 115, 116, 117, 118, 119, 120, 115, 116,\n",
       "        117, 118, 119, 120, 121, 115, 116, 117, 118, 119, 120, 121, 122,\n",
       "          4, 115, 116, 117, 118, 119, 120, 121, 122, 123, 124,   1,   2,\n",
       "          3,   4, 116, 117, 118, 119, 120, 121, 122, 123,   0,   1,   2,\n",
       "          3,   4, 116, 117, 118, 119, 120, 121, 122, 123, 124,   0,   1,\n",
       "          2,   3,   4, 117, 118, 119, 120, 121, 122, 123, 124,   0,   1,\n",
       "          2,   3,   4, 117, 118, 119, 120, 121, 122, 123, 124,   0,   1,\n",
       "          2,   3,   4, 118, 119, 120, 121, 122, 123, 124, 125,   0,   1,\n",
       "          3, 118, 119, 120, 121, 122, 123, 124, 125,   1, 118, 119, 120,\n",
       "        121, 122, 123, 124, 125, 118, 119, 120, 121, 122, 123, 124, 125,\n",
       "        118, 119, 120, 121, 122, 123, 124, 125, 118, 119, 120, 121, 122,\n",
       "        123, 124, 125, 118, 119, 120, 121, 122, 123, 124, 125, 118, 119,\n",
       "        120, 121, 122, 123, 124, 125, 118, 119, 120, 121, 122, 123, 124,\n",
       "        125, 118, 119, 120, 121, 122, 123, 124, 125, 117, 118, 119, 120,\n",
       "        121, 122, 123, 124, 125, 117, 118, 119, 120, 121, 122, 123, 124,\n",
       "        116, 117, 118, 119, 120, 121, 122, 123, 124, 115, 116, 117, 118,\n",
       "        119, 120, 121, 122, 123, 115, 116, 117, 118, 119, 120, 121, 122,\n",
       "        115, 116, 117, 118, 119, 120, 121, 115, 116, 117, 118, 119, 120,\n",
       "        115, 116, 117, 118, 119, 115, 116, 117, 115, 116, 117, 118, 115,\n",
       "        116, 117, 118, 119, 122, 115, 116, 117, 118, 119, 120, 115, 116,\n",
       "        117, 118, 119, 120, 121, 116, 117, 118, 119, 120, 121, 122, 117,\n",
       "        118, 119, 120, 121, 122, 123]))"
      ]
     },
     "execution_count": 15,
     "metadata": {},
     "output_type": "execute_result"
    }
   ],
   "source": [
    "imagedata"
   ]
  },
  {
   "cell_type": "code",
   "execution_count": 16,
   "metadata": {},
   "outputs": [
    {
     "data": {
      "image/png": "[encoded data removed]",
      "text/plain": [
       "<Figure size 432x288 with 1 Axes>"
      ]
     },
     "metadata": {
      "needs_background": "light"
     },
     "output_type": "display_data"
    }
   ],
   "source": [
    "import matplotlib.pyplot as plt\n",
    "plt.scatter(imagedata[1], 47 - imagedata[0], s = 100, c = 'red', label = 'Cluster 1')\n",
    "plt.ylim(ymin=0)  \n",
    "plt.ylim(ymax=47) \n",
    "plt.show()"
   ]
  },
  {
   "cell_type": "code",
   "execution_count": 17,
   "metadata": {},
   "outputs": [],
   "source": [
    "X = np.array([imagedata[1]])\n",
    "Y = 47 - imagedata[0]"
   ]
  },
  {
   "cell_type": "code",
   "execution_count": null,
   "metadata": {},
   "outputs": [],
   "source": []
  }
 ],
 "metadata": {
  "kernelspec": {
   "display_name": "Python 2",
   "language": "python",
   "name": "python2"
  },
  "language_info": {
   "codemirror_mode": {
    "name": "ipython",
    "version": 2
   },
   "file_extension": ".py",
   "mimetype": "text/x-python",
   "name": "python",
   "nbconvert_exporter": "python",
   "pygments_lexer": "ipython2",
   "version": "2.7.16"
  }
 },
 "nbformat": 4,
 "nbformat_minor": 2
}
