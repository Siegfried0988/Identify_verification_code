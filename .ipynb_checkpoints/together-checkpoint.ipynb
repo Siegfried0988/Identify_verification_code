{
 "cells": [
  {
   "cell_type": "code",
   "execution_count": 1,
   "metadata": {},
   "outputs": [],
   "source": [
    "from selenium import webdriver\n",
    "import time\n",
    "from PIL import Image\n",
    "driver = webdriver.Chrome('C:\\\\Users\\\\USER\\Desktop\\\\test\\\\chromedriver.exe')\n",
    "\n",
    "driver.implicitly_wait(60)\n",
    "driver.get('http://irs.thsrc.com.tw/IMINT/')\n",
    "driver.find_element_by_id('btn-confirm').click()\n",
    "time.sleep(3)\n",
    "driver.save_screenshot('test.png')\n",
    "\n",
    "\n",
    "element = driver.find_element_by_id('BookingS1Form_homeCaptcha_passCode')\n",
    "\n",
    "left = element.location['x']\n",
    "right = element.location['x'] + element.size['width']\n",
    "top = element.location['y']\n",
    "bottom = element.location['y'] + element.size['height']\n",
    "\n",
    "img = Image.open('test.png')\n",
    "# img.show()\n",
    "img = img.crop((left, top, right, bottom))\n",
    "\n",
    "img.save('captua.png', 'png')\n"
   ]
  },
  {
   "cell_type": "code",
   "execution_count": 2,
   "metadata": {},
   "outputs": [
    {
     "data": {
      "image/png": "[encoded data removed]",
      "text/plain": [
       "<PIL.PngImagePlugin.PngImageFile image mode=RGBA size=149x51 at 0x5BF2F50>"
      ]
     },
     "execution_count": 2,
     "metadata": {},
     "output_type": "execute_result"
    }
   ],
   "source": [
    "# import cv2\n",
    "import requests\n",
    "from PIL import Image\n",
    "Image.open('captua.png')"
   ]
  },
  {
   "cell_type": "code",
   "execution_count": 3,
   "metadata": {},
   "outputs": [],
   "source": [
    "import cv2\n",
    "img = cv2.imread('captua.png')"
   ]
  },
  {
   "cell_type": "code",
   "execution_count": 4,
   "metadata": {},
   "outputs": [],
   "source": [
    "dst = cv2.fastNlMeansDenoisingColored(img, None, 30, 30 , 7 , 21)"
   ]
  },
  {
   "cell_type": "code",
   "execution_count": 5,
   "metadata": {},
   "outputs": [
    {
     "data": {
      "text/plain": [
       "<matplotlib.image.AxesImage at 0x9c38d90>"
      ]
     },
     "execution_count": 5,
     "metadata": {},
     "output_type": "execute_result"
    }
   ],
   "source": [
    "import matplotlib.pyplot as plt\n",
    "plt.subplot(121)\n",
    "plt.imshow(img)\n",
    "plt.subplot(122)\n",
    "plt.imshow(dst)"
   ]
  },
  {
   "cell_type": "code",
   "execution_count": 6,
   "metadata": {},
   "outputs": [],
   "source": [
    "ret,thresh = cv2.threshold(dst,127,255,cv2.THRESH_BINARY_INV)"
   ]
  },
  {
   "cell_type": "code",
   "execution_count": 7,
   "metadata": {},
   "outputs": [
    {
     "data": {
      "image/png": "[encoded data removed]",
      "text/plain": [
       "<Figure size 432x288 with 1 Axes>"
      ]
     },
     "metadata": {
      "needs_background": "light"
     },
     "output_type": "display_data"
    }
   ],
   "source": [
    "plt.imshow(thresh)\n",
    "plt.show()"
   ]
  },
  {
   "cell_type": "code",
   "execution_count": 8,
   "metadata": {},
   "outputs": [],
   "source": [
    "imgarr = cv2.cvtColor(thresh, cv2.COLOR_BGR2GRAY)"
   ]
  },
  {
   "cell_type": "code",
   "execution_count": 9,
   "metadata": {},
   "outputs": [
    {
     "data": {
      "text/plain": [
       "array([[0, 0, 0, ..., 0, 0, 0],\n",
       "       [0, 0, 0, ..., 0, 0, 0],\n",
       "       [0, 0, 0, ..., 0, 0, 0],\n",
       "       ...,\n",
       "       [0, 0, 0, ..., 0, 0, 0],\n",
       "       [0, 0, 0, ..., 0, 0, 0],\n",
       "       [0, 0, 0, ..., 0, 0, 0]], dtype=uint8)"
      ]
     },
     "execution_count": 9,
     "metadata": {},
     "output_type": "execute_result"
    }
   ],
   "source": [
    "imgarr"
   ]
  },
  {
   "cell_type": "code",
   "execution_count": 10,
   "metadata": {},
   "outputs": [
    {
     "data": {
      "text/plain": [
       "(51, 149)"
      ]
     },
     "execution_count": 10,
     "metadata": {},
     "output_type": "execute_result"
    }
   ],
   "source": [
    "imgarr.shape"
   ]
  },
  {
   "cell_type": "code",
   "execution_count": 11,
   "metadata": {},
   "outputs": [],
   "source": [
    "imgarr[:,5:130] = 0"
   ]
  },
  {
   "cell_type": "code",
   "execution_count": 12,
   "metadata": {},
   "outputs": [
    {
     "data": {
      "text/plain": [
       "(51, 149)"
      ]
     },
     "execution_count": 12,
     "metadata": {},
     "output_type": "execute_result"
    }
   ],
   "source": [
    "imgarr.shape"
   ]
  },
  {
   "cell_type": "code",
   "execution_count": 13,
   "metadata": {},
   "outputs": [
    {
     "data": {
      "text/plain": [
       "array([[0, 0, 0, ..., 0, 0, 0],\n",
       "       [0, 0, 0, ..., 0, 0, 0],\n",
       "       [0, 0, 0, ..., 0, 0, 0],\n",
       "       ...,\n",
       "       [0, 0, 0, ..., 0, 0, 0],\n",
       "       [0, 0, 0, ..., 0, 0, 0],\n",
       "       [0, 0, 0, ..., 0, 0, 0]], dtype=uint8)"
      ]
     },
     "execution_count": 13,
     "metadata": {},
     "output_type": "execute_result"
    }
   ],
   "source": [
    "imgarr"
   ]
  },
  {
   "cell_type": "code",
   "execution_count": 14,
   "metadata": {},
   "outputs": [],
   "source": [
    "import numpy as np\n",
    "from sklearn.preprocessing import binarize\n",
    "imagedata = np.where(imgarr == 255)"
   ]
  },
  {
   "cell_type": "code",
   "execution_count": 15,
   "metadata": {},
   "outputs": [
    {
     "data": {
      "text/plain": [
       "(array([ 7,  7,  7,  7,  7,  7,  7,  7,  7,  7,  7,  7,  8,  8,  8,  8,  8,\n",
       "         8,  8,  8,  8,  8,  8,  8,  8,  8,  8,  8,  8,  8,  8,  9,  9,  9,\n",
       "         9,  9,  9,  9,  9,  9,  9,  9,  9,  9,  9,  9,  9,  9,  9,  9, 10,\n",
       "        10, 10, 10, 10, 10, 10, 10, 10, 10, 10, 10, 10, 10, 10, 10, 10, 10,\n",
       "        11, 11, 11, 11, 11, 11, 11, 11, 11, 11, 11, 11, 11, 12, 12, 12, 12,\n",
       "        12, 12, 12, 12, 12, 12, 12, 12, 12, 13, 13, 13, 13, 13, 13, 14, 14,\n",
       "        14, 14, 14, 14, 15, 15, 15, 15, 15, 15, 16, 16, 16, 16, 16, 16, 17,\n",
       "        17, 17, 17, 17, 18, 18, 18, 18, 19, 19, 19, 20, 20, 21, 21, 22, 22,\n",
       "        22, 22, 23, 23, 23, 23, 23, 24, 24, 24, 24, 24, 25, 25, 25, 25, 25,\n",
       "        26, 26, 26, 26, 26, 27, 27, 33, 34, 34, 34, 34, 35, 35, 35, 35, 35,\n",
       "        35, 35, 35, 36, 36, 36, 36, 36, 36, 36, 36, 37, 37, 37, 37, 37, 37,\n",
       "        37, 37, 38, 38, 38, 38, 38, 38, 38, 38, 39, 39, 39, 39, 39, 39, 39,\n",
       "        39]),\n",
       " array([130, 131, 132, 133, 134, 135, 136, 137, 138, 139, 140, 141, 130,\n",
       "        131, 132, 133, 134, 135, 136, 137, 138, 139, 140, 141, 142, 143,\n",
       "        144, 145, 146, 147, 148, 130, 131, 132, 133, 134, 135, 136, 137,\n",
       "        138, 139, 140, 141, 142, 143, 144, 145, 146, 147, 148, 130, 131,\n",
       "        132, 133, 134, 135, 136, 137, 138, 139, 140, 141, 143, 144, 145,\n",
       "        146, 147, 148, 136, 137, 138, 139, 140, 141, 142, 143, 144, 145,\n",
       "        146, 147, 148, 130, 131, 132, 133, 134, 135, 142, 143, 144, 145,\n",
       "        146, 147, 148, 130, 131, 132, 133, 134, 135, 130, 131, 132, 133,\n",
       "        134, 135, 130, 131, 132, 133, 134, 135, 130, 131, 132, 133, 134,\n",
       "        135, 130, 131, 132, 133, 134, 130, 131, 132, 133, 130, 131, 132,\n",
       "        130, 133, 130, 131,   2,   3,   4, 130,   0,   1,   2,   3,   4,\n",
       "          0,   1,   2,   3,   4,   0,   1,   2,   3,   4,   0,   1,   2,\n",
       "          3,   4,   0,   1, 134, 130, 131, 132, 133, 130, 131, 132, 133,\n",
       "        134, 135, 136, 137, 130, 131, 132, 133, 134, 135, 136, 137, 130,\n",
       "        131, 132, 133, 134, 135, 136, 137, 130, 131, 132, 133, 134, 135,\n",
       "        136, 137, 130, 131, 132, 133, 134, 135, 136, 137]))"
      ]
     },
     "execution_count": 15,
     "metadata": {},
     "output_type": "execute_result"
    }
   ],
   "source": [
    "imagedata"
   ]
  },
  {
   "cell_type": "code",
   "execution_count": 16,
   "metadata": {},
   "outputs": [
    {
     "data": {
      "image/png": "[encoded data removed]",
      "text/plain": [
       "<Figure size 432x288 with 1 Axes>"
      ]
     },
     "metadata": {
      "needs_background": "light"
     },
     "output_type": "display_data"
    }
   ],
   "source": [
    "import matplotlib.pyplot as plt\n",
    "plt.scatter(imagedata[1], 47 - imagedata[0], s = 100, c = 'red', label = 'Cluster 1')\n",
    "plt.ylim(ymin=0)  \n",
    "plt.ylim(ymax=47) \n",
    "plt.show()"
   ]
  },
  {
   "cell_type": "code",
   "execution_count": 17,
   "metadata": {},
   "outputs": [],
   "source": [
    "X = np.array([imagedata[1]])\n",
    "Y = 47 - imagedata[0]"
   ]
  },
  {
   "cell_type": "code",
   "execution_count": 18,
   "metadata": {},
   "outputs": [
    {
     "data": {
      "text/plain": [
       "LinearRegression(copy_X=True, fit_intercept=True, n_jobs=None,\n",
       "         normalize=False)"
      ]
     },
     "execution_count": 18,
     "metadata": {},
     "output_type": "execute_result"
    }
   ],
   "source": [
    "from sklearn.preprocessing import PolynomialFeatures\n",
    "from sklearn.linear_model import LinearRegression\n",
    "\n",
    "poly_reg= PolynomialFeatures(degree = 2)\n",
    "X_ = poly_reg.fit_transform(X.T)\n",
    "regr = LinearRegression()\n",
    "regr.fit(X_, Y)"
   ]
  },
  {
   "cell_type": "code",
   "execution_count": 19,
   "metadata": {},
   "outputs": [
    {
     "data": {
      "text/plain": [
       "array([[  0,   1,   2,   3,   4,   5,   6,   7,   8,   9,  10,  11,  12,\n",
       "         13,  14,  15,  16,  17,  18,  19,  20,  21,  22,  23,  24,  25,\n",
       "         26,  27,  28,  29,  30,  31,  32,  33,  34,  35,  36,  37,  38,\n",
       "         39,  40,  41,  42,  43,  44,  45,  46,  47,  48,  49,  50,  51,\n",
       "         52,  53,  54,  55,  56,  57,  58,  59,  60,  61,  62,  63,  64,\n",
       "         65,  66,  67,  68,  69,  70,  71,  72,  73,  74,  75,  76,  77,\n",
       "         78,  79,  80,  81,  82,  83,  84,  85,  86,  87,  88,  89,  90,\n",
       "         91,  92,  93,  94,  95,  96,  97,  98,  99, 100, 101, 102, 103,\n",
       "        104, 105, 106, 107, 108, 109, 110, 111, 112, 113, 114, 115, 116,\n",
       "        117, 118]])"
      ]
     },
     "execution_count": 19,
     "metadata": {},
     "output_type": "execute_result"
    }
   ],
   "source": [
    "X2 = np.array([[i for i in range(0,119)]])\n",
    "X2"
   ]
  },
  {
   "cell_type": "code",
   "execution_count": 20,
   "metadata": {},
   "outputs": [],
   "source": [
    "X2_ = poly_reg.fit_transform(X2.T)"
   ]
  },
  {
   "cell_type": "code",
   "execution_count": 21,
   "metadata": {},
   "outputs": [
    {
     "name": "stdout",
     "output_type": "stream",
     "text": [
      "Populating the interactive namespace from numpy and matplotlib\n"
     ]
    },
    {
     "data": {
      "text/plain": [
       "[<matplotlib.lines.Line2D at 0xc8a1970>]"
      ]
     },
     "execution_count": 21,
     "metadata": {},
     "output_type": "execute_result"
    },
    {
     "data": {
      "image/png": "[encoded data removed]",
      "text/plain": [
       "<Figure size 432x288 with 1 Axes>"
      ]
     },
     "metadata": {
      "needs_background": "light"
     },
     "output_type": "display_data"
    }
   ],
   "source": [
    "%pylab inline\n",
    "plt.scatter(X,Y, color=\"black\")\n",
    "plt.ylim(ymin=0)\n",
    "plt.ylim(ymax=47)\n",
    "plt.plot(X2.T, regr.predict(X2_), color= \"blue\", linewidth = 3)"
   ]
  },
  {
   "cell_type": "code",
   "execution_count": 22,
   "metadata": {},
   "outputs": [
    {
     "name": "stdout",
     "output_type": "stream",
     "text": [
      "Coefficient:[ 0.         -0.73900121  0.00570771]\n",
      "Intercept:24.0151807444\n"
     ]
    }
   ],
   "source": [
    "print('Coefficient:{}'.format(regr.coef_) )\n",
    "print('Intercept:{}'.format(regr.intercept_) )"
   ]
  },
  {
   "cell_type": "code",
   "execution_count": 23,
   "metadata": {},
   "outputs": [],
   "source": [
    "newimg =  cv2.cvtColor(thresh, cv2.COLOR_BGR2GRAY)"
   ]
  },
  {
   "cell_type": "code",
   "execution_count": 24,
   "metadata": {},
   "outputs": [],
   "source": [
    "for ele in np.column_stack([regr.predict(X2_).round(0),X2[0],] ):\n",
    "    pos = 47-int(ele[0])\n",
    "    #if newimg[pos-4:pos+4,int(ele[1])] == 255:\n",
    "    #newimg[pos-3:pos+3,int(ele[1])] = 0 \n",
    "    newimg[pos-3:pos+3,int(ele[1])] = 255 - newimg[pos-3:pos+3,int(ele[1])]"
   ]
  },
  {
   "cell_type": "code",
   "execution_count": 25,
   "metadata": {},
   "outputs": [
    {
     "data": {
      "text/plain": [
       "<matplotlib.image.AxesImage at 0xca1e7b0>"
      ]
     },
     "execution_count": 25,
     "metadata": {},
     "output_type": "execute_result"
    },
    {
     "data": {
      "image/png": "[encoded data removed]",
      "text/plain": [
       "<Figure size 432x288 with 1 Axes>"
      ]
     },
     "metadata": {
      "needs_background": "light"
     },
     "output_type": "display_data"
    }
   ],
   "source": [
    "import matplotlib.pyplot as plt\n",
    "plt.subplot(121)\n",
    "plt.imshow(thresh)"
   ]
  },
  {
   "cell_type": "code",
   "execution_count": 26,
   "metadata": {},
   "outputs": [
    {
     "data": {
      "image/png": "[encoded data removed]",
      "text/plain": [
       "<Figure size 432x288 with 1 Axes>"
      ]
     },
     "metadata": {
      "needs_background": "light"
     },
     "output_type": "display_data"
    }
   ],
   "source": [
    "#plt.subplot(122)\n",
    "plt.imshow(newimg)\n",
    "plt.savefig('{}.png'.format('canCut'))"
   ]
  },
  {
   "cell_type": "code",
   "execution_count": 27,
   "metadata": {},
   "outputs": [
    {
     "data": {
      "image/png": "[encoded data removed]",
      "text/plain": [
       "<PIL.PngImagePlugin.PngImageFile image mode=RGBA size=432x288 at 0x60D9690>"
      ]
     },
     "execution_count": 27,
     "metadata": {},
     "output_type": "execute_result"
    }
   ],
   "source": [
    "import cv2\n",
    "import requests\n",
    "# pip install --upgrade pillow\n",
    "\n",
    "\n",
    "# with open ('kaptch.jpg', 'wb') as f:\n",
    "#     res = requests.get('http://gcis.nat.gov.tw/pub/kaptch.jpg')\n",
    "#     f.write(res.content)\n",
    "from PIL import Image\n",
    "#image = Image.open('C:\\\\Users\\\\USER\\\\Desktop\\\\test\\\\captua1.png')\n",
    "image = Image.open('canCut.png')\n",
    "image"
   ]
  },
  {
   "cell_type": "code",
   "execution_count": 28,
   "metadata": {},
   "outputs": [],
   "source": [
    "import PIL\n",
    "import numpy\n",
    "pil_image = PIL.Image.open('canCut.png').convert('RGB')\n",
    "#pil_image = PIL.Image.open('C:\\\\Users\\\\USER\\\\Desktop\\\\test\\\\captua1.png').convert('RGB')\n",
    "open_cv_image = numpy.array(pil_image)"
   ]
  },
  {
   "cell_type": "code",
   "execution_count": 29,
   "metadata": {},
   "outputs": [
    {
     "name": "stdout",
     "output_type": "stream",
     "text": [
      "Populating the interactive namespace from numpy and matplotlib\n"
     ]
    },
    {
     "data": {
      "text/plain": [
       "<matplotlib.image.AxesImage at 0xc8de630>"
      ]
     },
     "execution_count": 29,
     "metadata": {},
     "output_type": "execute_result"
    },
    {
     "data": {
      "image/png": "[encoded data removed]",
      "text/plain": [
       "<Figure size 432x288 with 1 Axes>"
      ]
     },
     "metadata": {
      "needs_background": "light"
     },
     "output_type": "display_data"
    }
   ],
   "source": [
    "%pylab inline\n",
    "from matplotlib import pyplot as plt\n",
    "plt.imshow(open_cv_image)"
   ]
  },
  {
   "cell_type": "code",
   "execution_count": 30,
   "metadata": {},
   "outputs": [],
   "source": [
    "imgray = cv2.cvtColor(open_cv_image, cv2.COLOR_BGR2GRAY)\n",
    "ret, thresh = cv2.threshold(imgray, 127, 255, 0)\n",
    "image, contours, hierarchy = cv2.findContours(thresh, cv2.RETR_TREE, cv2.CHAIN_APPROX_SIMPLE)\n",
    "cnts = sorted([(c, cv2.boundingRect(c)[0]) for c in contours], key = lambda x:x[1])"
   ]
  },
  {
   "cell_type": "code",
   "execution_count": 31,
   "metadata": {},
   "outputs": [
    {
     "name": "stdout",
     "output_type": "stream",
     "text": [
      "(1, 1, 430, 286)\n",
      "(34, 172, 9, 10)\n",
      "(35, 132, 6, 5)\n",
      "(35, 127, 5, 3)\n",
      "(36, 174, 3, 3)\n",
      "(37, 131, 3, 3)\n",
      "(38, 128, 3, 5)\n",
      "(40, 128, 3, 8)\n",
      "(41, 178, 5, 4)\n",
      "(41, 172, 5, 4)\n",
      "(41, 134, 5, 3)\n",
      "(41, 127, 5, 3)\n",
      "(41, 83, 3, 8)\n",
      "(42, 89, 4, 3)\n",
      "(42, 82, 4, 3)\n",
      "(44, 174, 3, 6)\n",
      "(44, 128, 3, 8)\n",
      "(44, 88, 3, 3)\n",
      "(44, 83, 3, 3)\n",
      "(45, 85, 3, 4)\n",
      "(51, 85, 340, 121)\n",
      "(53, 208, 3, 8)\n",
      "(54, 214, 4, 3)\n",
      "(54, 207, 4, 3)\n",
      "(55, 145, 3, 4)\n",
      "(55, 131, 6, 7)\n",
      "(56, 213, 3, 3)\n",
      "(56, 208, 3, 3)\n",
      "(57, 210, 3, 4)\n",
      "(61, 100, 328, 99)\n",
      "(75, 139, 16, 13)\n",
      "(87, 150, 4, 5)\n",
      "(87, 126, 17, 17)\n",
      "(91, 155, 22, 24)\n",
      "(91, 150, 4, 5)\n",
      "(93, 144, 5, 4)\n",
      "(95, 212, 6, 5)\n",
      "(95, 207, 5, 3)\n",
      "(96, 139, 4, 4)\n",
      "(97, 211, 3, 3)\n",
      "(98, 208, 3, 5)\n",
      "(100, 208, 3, 8)\n",
      "(100, 177, 4, 5)\n",
      "(101, 214, 5, 3)\n",
      "(101, 207, 5, 3)\n",
      "(102, 132, 18, 16)\n",
      "(104, 208, 3, 8)\n",
      "(107, 180, 4, 4)\n",
      "(108, 138, 2, 2)\n",
      "(111, 162, 5, 6)\n",
      "(118, 146, 4, 4)\n",
      "(118, 137, 4, 4)\n",
      "(118, 130, 4, 4)\n",
      "(125, 132, 4, 5)\n",
      "(125, 128, 9, 4)\n",
      "(134, 130, 4, 4)\n",
      "(138, 207, 9, 10)\n",
      "(140, 209, 3, 3)\n",
      "(145, 213, 5, 4)\n",
      "(145, 207, 5, 4)\n",
      "(148, 209, 3, 6)\n",
      "(154, 191, 4, 4)\n",
      "(170, 182, 58, 11)\n",
      "(178, 160, 2, 3)\n",
      "(183, 180, 5, 4)\n",
      "(183, 112, 72, 72)\n",
      "(184, 208, 8, 9)\n",
      "(185, 207, 5, 3)\n",
      "(190, 214, 5, 3)\n",
      "(190, 207, 5, 3)\n",
      "(193, 208, 3, 8)\n",
      "(195, 177, 6, 5)\n",
      "(195, 146, 4, 4)\n",
      "(197, 191, 4, 4)\n",
      "(201, 110, 5, 4)\n",
      "(206, 132, 4, 5)\n",
      "(214, 122, 2, 2)\n",
      "(215, 128, 4, 4)\n",
      "(217, 130, 4, 4)\n",
      "(218, 187, 2, 3)\n",
      "(229, 211, 6, 6)\n",
      "(229, 208, 3, 4)\n",
      "(230, 207, 5, 7)\n",
      "(233, 208, 4, 8)\n",
      "(235, 213, 5, 4)\n",
      "(235, 207, 5, 4)\n",
      "(235, 105, 4, 5)\n",
      "(238, 209, 3, 6)\n",
      "(240, 130, 4, 4)\n",
      "(242, 153, 4, 4)\n",
      "(242, 123, 4, 5)\n",
      "(244, 166, 4, 4)\n",
      "(246, 168, 5, 5)\n",
      "(249, 105, 4, 5)\n",
      "(251, 173, 4, 4)\n",
      "(251, 108, 4, 4)\n",
      "(256, 138, 3, 2)\n",
      "(258, 123, 4, 5)\n",
      "(270, 163, 2, 2)\n",
      "(271, 207, 6, 10)\n",
      "(273, 112, 68, 58)\n",
      "(274, 169, 3, 3)\n",
      "(276, 208, 3, 8)\n",
      "(277, 214, 5, 3)\n",
      "(277, 207, 5, 3)\n",
      "(277, 178, 20, 18)\n",
      "(280, 208, 3, 8)\n",
      "(282, 209, 3, 6)\n",
      "(282, 182, 5, 4)\n",
      "(282, 132, 5, 5)\n",
      "(283, 213, 5, 4)\n",
      "(283, 207, 5, 4)\n",
      "(285, 137, 4, 4)\n",
      "(286, 208, 3, 8)\n",
      "(300, 157, 5, 4)\n",
      "(303, 105, 58, 11)\n",
      "(315, 207, 6, 10)\n",
      "(320, 213, 7, 4)\n",
      "(320, 207, 7, 5)\n",
      "(322, 212, 3, 3)\n",
      "(323, 210, 3, 4)\n",
      "(323, 153, 4, 4)\n",
      "(325, 139, 4, 4)\n",
      "(326, 210, 3, 4)\n",
      "(326, 122, 2, 2)\n",
      "(327, 213, 3, 3)\n",
      "(327, 208, 3, 3)\n",
      "(328, 214, 4, 3)\n",
      "(328, 207, 4, 3)\n",
      "(330, 208, 3, 8)\n",
      "(330, 135, 4, 4)\n",
      "(332, 164, 4, 4)\n",
      "(339, 126, 4, 4)\n",
      "(360, 207, 6, 10)\n",
      "(365, 207, 7, 10)\n",
      "(366, 209, 3, 4)\n",
      "(371, 209, 3, 6)\n",
      "(372, 213, 5, 4)\n",
      "(372, 207, 5, 4)\n",
      "(372, 108, 5, 4)\n",
      "(375, 208, 3, 8)\n"
     ]
    }
   ],
   "source": [
    "ary =[]\n",
    "for (c,_) in cnts:\n",
    "    (x, y, w, h) = cv2.boundingRect(c)\n",
    "    print((x, y, w, h))\n",
    "    if w >= 20 and w <= 90 and h >=60 and h<=120:\n",
    "    #if w >=15 and h >10:\n",
    "        ary.append((x, y, w, h))"
   ]
  },
  {
   "cell_type": "code",
   "execution_count": 32,
   "metadata": {},
   "outputs": [
    {
     "name": "stdout",
     "output_type": "stream",
     "text": [
      "[(183, 112, 72, 72)]\n"
     ]
    }
   ],
   "source": [
    "print(ary)"
   ]
  },
  {
   "cell_type": "code",
   "execution_count": 33,
   "metadata": {},
   "outputs": [
    {
     "name": "stdout",
     "output_type": "stream",
     "text": [
      "Populating the interactive namespace from numpy and matplotlib\n"
     ]
    },
    {
     "data": {
      "text/plain": [
       "<matplotlib.image.AxesImage at 0xcd4f830>"
      ]
     },
     "execution_count": 33,
     "metadata": {},
     "output_type": "execute_result"
    },
    {
     "data": {
      "image/png": "[encoded data removed]",
      "text/plain": [
       "<Figure size 432x288 with 1 Axes>"
      ]
     },
     "metadata": {
      "needs_background": "light"
     },
     "output_type": "display_data"
    }
   ],
   "source": [
    "%pylab inline\n",
    "plt.imshow(open_cv_image)"
   ]
  },
  {
   "cell_type": "code",
   "execution_count": 34,
   "metadata": {},
   "outputs": [
    {
     "data": {
      "image/png": "[encoded data removed]",
      "text/plain": [
       "<Figure size 432x288 with 1 Axes>"
      ]
     },
     "metadata": {
      "needs_background": "light"
     },
     "output_type": "display_data"
    }
   ],
   "source": [
    "from matplotlib import pyplot as plt\n",
    "fig = plt.figure()\n",
    "for id, (x, y, w, h) in enumerate(ary):\n",
    "    roi = open_cv_image[y:y+h, x:x+w]\n",
    "    thresh = roi.copy()\n",
    "    a = fig.add_subplot(1, len(ary), id+1)\n",
    "    plt.imshow(thresh)"
   ]
  },
  {
   "cell_type": "code",
   "execution_count": 35,
   "metadata": {},
   "outputs": [
    {
     "data": {
      "image/png": "[encoded data removed]",
      "text/plain": [
       "<Figure size 432x288 with 1 Axes>"
      ]
     },
     "metadata": {
      "needs_background": "light"
     },
     "output_type": "display_data"
    }
   ],
   "source": [
    "from matplotlib import pyplot as plt\n",
    "for id, (x, y, w, h) in enumerate(ary):\n",
    "    fig = plt.figure()\n",
    "    roi = open_cv_image[y:y+h, x:x+w]\n",
    "    thresh = roi.copy()\n",
    "    plt.imshow(thresh)\n",
    "    plt.savefig('{}.png'.format(id+1), dpi=100)\n",
    "  "
   ]
  },
  {
   "cell_type": "code",
   "execution_count": null,
   "metadata": {},
   "outputs": [],
   "source": []
  },
  {
   "cell_type": "code",
   "execution_count": null,
   "metadata": {},
   "outputs": [],
   "source": []
  }
 ],
 "metadata": {
  "kernelspec": {
   "display_name": "Python 2",
   "language": "python",
   "name": "python2"
  },
  "language_info": {
   "codemirror_mode": {
    "name": "ipython",
    "version": 2
   },
   "file_extension": ".py",
   "mimetype": "text/x-python",
   "name": "python",
   "nbconvert_exporter": "python",
   "pygments_lexer": "ipython2",
   "version": "2.7.16"
  }
 },
 "nbformat": 4,
 "nbformat_minor": 2
}
