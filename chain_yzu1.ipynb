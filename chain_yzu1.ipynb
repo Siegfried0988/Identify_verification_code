{
 "cells": [
  {
   "cell_type": "code",
   "execution_count": 1,
   "metadata": {},
   "outputs": [],
   "source": [
    "from selenium import webdriver\n",
    "import time\n",
    "from PIL import Image\n",
    "import cv2\n",
    "import requests\n",
    "driver = webdriver.Chrome('C:\\\\Users\\\\USER\\Desktop\\\\test\\\\chromedriver.exe')\n",
    "\n",
    "driver.implicitly_wait(60)\n",
    "driver.get('https://portalx.yzu.edu.tw/PortalSocialVB/Login.aspx')\n",
    "\n",
    "driver.save_screenshot('test.png')\n",
    "\n",
    "\n",
    "element = driver.find_element_by_xpath(\"//iframe[@id='VeriCodePage']\")\n",
    "\n",
    "left = element.location['x']\n",
    "right = element.location['x'] + element.size['width']\n",
    "top = element.location['y']\n",
    "bottom = element.location['y'] + element.size['height']\n",
    "\n",
    "img = Image.open('test.png')\n",
    "# img.show()\n",
    "img = img.crop((left, top, right, bottom))\n",
    "\n",
    "img.save('canCut.png', 'png')\n",
    "\n",
    "\n",
    "\n",
    "driver.close()\n",
    "# from PIL import Image\n",
    "\n",
    "# image = Image.open('canCut.png')\n",
    "# image"
   ]
  },
  {
   "cell_type": "code",
   "execution_count": 2,
   "metadata": {},
   "outputs": [],
   "source": [
    "import PIL\n",
    "import numpy\n",
    "pil_image = PIL.Image.open('canCut.png').convert('RGB')\n",
    "#pil_image = PIL.Image.open('C:\\\\Users\\\\USER\\\\Desktop\\\\test\\\\captua1.png').convert('RGB')\n",
    "open_cv_image = numpy.array(pil_image)"
   ]
  },
  {
   "cell_type": "code",
   "execution_count": 3,
   "metadata": {},
   "outputs": [
    {
     "name": "stdout",
     "output_type": "stream",
     "text": [
      "Populating the interactive namespace from numpy and matplotlib\n"
     ]
    },
    {
     "data": {
      "text/plain": [
       "<matplotlib.image.AxesImage at 0x92bbad0>"
      ]
     },
     "execution_count": 3,
     "metadata": {},
     "output_type": "execute_result"
    },
    {
     "data": {
      "image/png": "[encoded data removed]",
      "text/plain": [
       "<Figure size 432x288 with 1 Axes>"
      ]
     },
     "metadata": {
      "needs_background": "light"
     },
     "output_type": "display_data"
    }
   ],
   "source": [
    "%pylab inline\n",
    "from matplotlib import pyplot as plt\n",
    "plt.imshow(open_cv_image)"
   ]
  },
  {
   "cell_type": "code",
   "execution_count": 10,
   "metadata": {},
   "outputs": [
    {
     "data": {
      "text/plain": [
       "<matplotlib.image.AxesImage at 0x9f45510>"
      ]
     },
     "execution_count": 10,
     "metadata": {},
     "output_type": "execute_result"
    },
    {
     "data": {
      "image/png": "[encoded data removed]",
      "text/plain": [
       "<Figure size 432x288 with 1 Axes>"
      ]
     },
     "metadata": {
      "needs_background": "light"
     },
     "output_type": "display_data"
    }
   ],
   "source": [
    "imgray = cv2.cvtColor(open_cv_image, cv2.COLOR_BGR2GRAY)\n",
    "ret, thresh = cv2.threshold(imgray, 127, 255, 0)\n",
    "image, contours, hierarchy = cv2.findContours(thresh, cv2.RETR_TREE, cv2.CHAIN_APPROX_SIMPLE)\n",
    "cnts = sorted([(c, cv2.boundingRect(c)[0]) for c in contours], key = lambda x:x[1])\n",
    "plt.imshow(thresh)"
   ]
  },
  {
   "cell_type": "code",
   "execution_count": 5,
   "metadata": {},
   "outputs": [
    {
     "name": "stdout",
     "output_type": "stream",
     "text": [
      "(1, 1, 133, 46)\n",
      "(1, 1, 110, 43)\n",
      "(10, 9, 22, 31)\n",
      "(18, 36, 1, 1)\n",
      "(23, 24, 1, 1)\n",
      "(28, 17, 2, 2)\n",
      "(33, 9, 22, 31)\n",
      "(40, 22, 1, 1)\n",
      "(45, 21, 1, 1)\n",
      "(48, 13, 1, 1)\n",
      "(55, 9, 22, 31)\n",
      "(60, 23, 1, 1)\n",
      "(62, 21, 1, 1)\n",
      "(62, 18, 1, 1)\n",
      "(77, 9, 21, 31)\n",
      "(79, 29, 1, 1)\n",
      "(82, 25, 9, 11)\n",
      "(84, 23, 1, 1)\n",
      "(85, 12, 9, 9)\n",
      "(90, 24, 1, 1)\n",
      "(92, 29, 1, 1)\n",
      "(93, 14, 1, 1)\n"
     ]
    }
   ],
   "source": [
    "ary =[]\n",
    "for (c,_) in cnts:\n",
    "    (x, y, w, h) = cv2.boundingRect(c)\n",
    "    print((x, y, w, h))\n",
    "    if w >= 17 and h >=30 and h<=35:\n",
    "    #if w >=15 and h >10:\n",
    "        ary.append((x, y, w, h))"
   ]
  },
  {
   "cell_type": "code",
   "execution_count": 6,
   "metadata": {},
   "outputs": [
    {
     "name": "stdout",
     "output_type": "stream",
     "text": [
      "[(10, 9, 22, 31), (33, 9, 22, 31), (55, 9, 22, 31), (77, 9, 21, 31)]\n"
     ]
    }
   ],
   "source": [
    "print(ary)"
   ]
  },
  {
   "cell_type": "code",
   "execution_count": 7,
   "metadata": {},
   "outputs": [
    {
     "name": "stdout",
     "output_type": "stream",
     "text": [
      "Populating the interactive namespace from numpy and matplotlib\n"
     ]
    },
    {
     "data": {
      "text/plain": [
       "<matplotlib.image.AxesImage at 0x9374cb0>"
      ]
     },
     "execution_count": 7,
     "metadata": {},
     "output_type": "execute_result"
    },
    {
     "data": {
      "image/png": "[encoded data removed]",
      "text/plain": [
       "<Figure size 432x288 with 1 Axes>"
      ]
     },
     "metadata": {
      "needs_background": "light"
     },
     "output_type": "display_data"
    }
   ],
   "source": [
    "%pylab inline\n",
    "plt.imshow(open_cv_image)"
   ]
  },
  {
   "cell_type": "code",
   "execution_count": 8,
   "metadata": {},
   "outputs": [
    {
     "data": {
      "image/png": "[encoded data removed]",
      "text/plain": [
       "<Figure size 432x288 with 4 Axes>"
      ]
     },
     "metadata": {
      "needs_background": "light"
     },
     "output_type": "display_data"
    }
   ],
   "source": [
    "from matplotlib import pyplot as plt\n",
    "fig = plt.figure()\n",
    "for id, (x, y, w, h) in enumerate(ary):\n",
    "    roi = open_cv_image[y:y+h, x:x+w]\n",
    "    thresh = roi.copy()\n",
    "    a = fig.add_subplot(1, len(ary), id+1)\n",
    "    plt.imshow(thresh)"
   ]
  },
  {
   "cell_type": "code",
   "execution_count": 9,
   "metadata": {},
   "outputs": [
    {
     "data": {
      "image/png": "[encoded data removed]",
      "text/plain": [
       "<Figure size 432x288 with 1 Axes>"
      ]
     },
     "metadata": {
      "needs_background": "light"
     },
     "output_type": "display_data"
    },
    {
     "data": {
      "image/png": "[encoded data removed]",
      "text/plain": [
       "<Figure size 432x288 with 1 Axes>"
      ]
     },
     "metadata": {
      "needs_background": "light"
     },
     "output_type": "display_data"
    },
    {
     "data": {
      "image/png": "[encoded data removed]",
      "text/plain": [
       "<Figure size 432x288 with 1 Axes>"
      ]
     },
     "metadata": {
      "needs_background": "light"
     },
     "output_type": "display_data"
    },
    {
     "data": {
      "image/png": "[encoded data removed]",
      "text/plain": [
       "<Figure size 432x288 with 1 Axes>"
      ]
     },
     "metadata": {
      "needs_background": "light"
     },
     "output_type": "display_data"
    }
   ],
   "source": [
    "from matplotlib import pyplot as plt\n",
    "for id, (x, y, w, h) in enumerate(ary):\n",
    "    fig = plt.figure()\n",
    "    roi = open_cv_image[y:y+h, x:x+w]\n",
    "    thresh = roi.copy()\n",
    "    plt.imshow(thresh)\n",
    "    plt.savefig('{}.png'.format(id+1), dpi=100)\n",
    "  "
   ]
  },
  {
   "cell_type": "code",
   "execution_count": null,
   "metadata": {},
   "outputs": [],
   "source": []
  },
  {
   "cell_type": "code",
   "execution_count": null,
   "metadata": {},
   "outputs": [],
   "source": []
  },
  {
   "cell_type": "code",
   "execution_count": null,
   "metadata": {},
   "outputs": [],
   "source": []
  }
 ],
 "metadata": {
  "kernelspec": {
   "display_name": "Python 2",
   "language": "python",
   "name": "python2"
  },
  "language_info": {
   "codemirror_mode": {
    "name": "ipython",
    "version": 2
   },
   "file_extension": ".py",
   "mimetype": "text/x-python",
   "name": "python",
   "nbconvert_exporter": "python",
   "pygments_lexer": "ipython2",
   "version": "2.7.16"
  }
 },
 "nbformat": 4,
 "nbformat_minor": 2
}
