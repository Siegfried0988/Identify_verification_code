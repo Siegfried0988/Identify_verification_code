{
 "cells": [
  {
   "cell_type": "code",
   "execution_count": 1,
   "metadata": {},
   "outputs": [],
   "source": [
    "from selenium import webdriver\n",
    "import time\n",
    "from PIL import Image\n",
    "driver = webdriver.Chrome('C:\\\\Users\\\\USER\\Desktop\\\\test\\\\chromedriver.exe')\n",
    "\n",
    "driver.implicitly_wait(60)\n",
    "driver.get('http://irs.thsrc.com.tw/IMINT/')\n",
    "driver.find_element_by_id('btn-confirm').click()\n",
    "time.sleep(3)\n",
    "driver.save_screenshot('test.png')\n",
    "\n",
    "\n",
    "element = driver.find_element_by_id('BookingS1Form_homeCaptcha_passCode')\n",
    "\n",
    "left = element.location['x']\n",
    "right = element.location['x'] + element.size['width']\n",
    "top = element.location['y']\n",
    "bottom = element.location['y'] + element.size['height']\n",
    "\n",
    "img = Image.open('test.png')\n",
    "# img.show()\n",
    "img = img.crop((left, top, right, bottom))\n",
    "\n",
    "img.save('captua.png', 'png')\n"
   ]
  },
  {
   "cell_type": "code",
   "execution_count": 2,
   "metadata": {},
   "outputs": [
    {
     "data": {
      "image/png": "[encoded data removed]",
      "text/plain": [
       "<PIL.PngImagePlugin.PngImageFile image mode=RGBA size=132x47 at 0x55E7F30>"
      ]
     },
     "execution_count": 2,
     "metadata": {},
     "output_type": "execute_result"
    }
   ],
   "source": [
    "# import cv2\n",
    "import requests\n",
    "from PIL import Image\n",
    "Image.open('captua.png')"
   ]
  },
  {
   "cell_type": "code",
   "execution_count": 3,
   "metadata": {},
   "outputs": [],
   "source": [
    "import cv2\n",
    "img = cv2.imread('captua.png')"
   ]
  },
  {
   "cell_type": "code",
   "execution_count": 4,
   "metadata": {},
   "outputs": [],
   "source": [
    "dst = cv2.fastNlMeansDenoisingColored(img, None, 30, 30 , 7 , 21)"
   ]
  },
  {
   "cell_type": "code",
   "execution_count": 5,
   "metadata": {},
   "outputs": [
    {
     "data": {
      "text/plain": [
       "<matplotlib.image.AxesImage at 0x82d5d70>"
      ]
     },
     "execution_count": 5,
     "metadata": {},
     "output_type": "execute_result"
    }
   ],
   "source": [
    "import matplotlib.pyplot as plt\n",
    "plt.subplot(121)\n",
    "plt.imshow(img)\n",
    "plt.subplot(122)\n",
    "plt.imshow(dst)"
   ]
  },
  {
   "cell_type": "code",
   "execution_count": 6,
   "metadata": {},
   "outputs": [],
   "source": [
    "ret,thresh = cv2.threshold(dst,127,255,cv2.THRESH_BINARY_INV)"
   ]
  },
  {
   "cell_type": "code",
   "execution_count": 7,
   "metadata": {},
   "outputs": [
    {
     "data": {
      "image/png": "[encoded data removed]",
      "text/plain": [
       "<Figure size 432x288 with 1 Axes>"
      ]
     },
     "metadata": {
      "needs_background": "light"
     },
     "output_type": "display_data"
    }
   ],
   "source": [
    "plt.imshow(thresh)\n",
    "plt.show()"
   ]
  },
  {
   "cell_type": "code",
   "execution_count": 8,
   "metadata": {},
   "outputs": [],
   "source": [
    "imgarr = cv2.cvtColor(thresh, cv2.COLOR_BGR2GRAY)"
   ]
  },
  {
   "cell_type": "code",
   "execution_count": 9,
   "metadata": {},
   "outputs": [
    {
     "data": {
      "text/plain": [
       "array([[0, 0, 0, ..., 0, 0, 0],\n",
       "       [0, 0, 0, ..., 0, 0, 0],\n",
       "       [0, 0, 0, ..., 0, 0, 0],\n",
       "       ...,\n",
       "       [0, 0, 0, ..., 0, 0, 0],\n",
       "       [0, 0, 0, ..., 0, 0, 0],\n",
       "       [0, 0, 0, ..., 0, 0, 0]], dtype=uint8)"
      ]
     },
     "execution_count": 9,
     "metadata": {},
     "output_type": "execute_result"
    }
   ],
   "source": [
    "imgarr"
   ]
  },
  {
   "cell_type": "code",
   "execution_count": 10,
   "metadata": {},
   "outputs": [
    {
     "data": {
      "text/plain": [
       "(47, 132)"
      ]
     },
     "execution_count": 10,
     "metadata": {},
     "output_type": "execute_result"
    }
   ],
   "source": [
    "imgarr.shape"
   ]
  },
  {
   "cell_type": "code",
   "execution_count": 11,
   "metadata": {},
   "outputs": [],
   "source": [
    "imgarr[:,5:130] = 0"
   ]
  },
  {
   "cell_type": "code",
   "execution_count": 12,
   "metadata": {},
   "outputs": [
    {
     "data": {
      "text/plain": [
       "(47, 132)"
      ]
     },
     "execution_count": 12,
     "metadata": {},
     "output_type": "execute_result"
    }
   ],
   "source": [
    "imgarr.shape"
   ]
  },
  {
   "cell_type": "code",
   "execution_count": 13,
   "metadata": {},
   "outputs": [
    {
     "data": {
      "text/plain": [
       "array([[0, 0, 0, ..., 0, 0, 0],\n",
       "       [0, 0, 0, ..., 0, 0, 0],\n",
       "       [0, 0, 0, ..., 0, 0, 0],\n",
       "       ...,\n",
       "       [0, 0, 0, ..., 0, 0, 0],\n",
       "       [0, 0, 0, ..., 0, 0, 0],\n",
       "       [0, 0, 0, ..., 0, 0, 0]], dtype=uint8)"
      ]
     },
     "execution_count": 13,
     "metadata": {},
     "output_type": "execute_result"
    }
   ],
   "source": [
    "imgarr"
   ]
  },
  {
   "cell_type": "code",
   "execution_count": 14,
   "metadata": {},
   "outputs": [],
   "source": [
    "import numpy as np\n",
    "from sklearn.preprocessing import binarize\n",
    "imagedata = np.where(imgarr == 255)"
   ]
  },
  {
   "cell_type": "code",
   "execution_count": 15,
   "metadata": {},
   "outputs": [
    {
     "data": {
      "text/plain": [
       "(array([ 5,  5,  6,  6,  7,  7,  8,  8,  9,  9, 18, 19, 19, 19, 19, 19, 20,\n",
       "        20, 20, 20, 20, 21, 21, 21, 21, 21, 22, 22, 22, 22, 22, 23, 23, 23,\n",
       "        23, 23, 24, 24]),\n",
       " array([130, 131, 130, 131, 130, 131, 130, 131, 130, 131,   4,   0,   1,\n",
       "          2,   3,   4,   0,   1,   2,   3,   4,   0,   1,   2,   3,   4,\n",
       "          0,   1,   2,   3,   4,   0,   1,   2,   3,   4,   0,   3]))"
      ]
     },
     "execution_count": 15,
     "metadata": {},
     "output_type": "execute_result"
    }
   ],
   "source": [
    "imagedata"
   ]
  },
  {
   "cell_type": "code",
   "execution_count": 16,
   "metadata": {},
   "outputs": [
    {
     "data": {
      "image/png": "[encoded data removed]",
      "text/plain": [
       "<Figure size 432x288 with 1 Axes>"
      ]
     },
     "metadata": {
      "needs_background": "light"
     },
     "output_type": "display_data"
    }
   ],
   "source": [
    "import matplotlib.pyplot as plt\n",
    "plt.scatter(imagedata[1], 47 - imagedata[0], s = 100, c = 'red', label = 'Cluster 1')\n",
    "plt.ylim(ymin=0)  \n",
    "plt.ylim(ymax=47) \n",
    "plt.show()"
   ]
  },
  {
   "cell_type": "code",
   "execution_count": 17,
   "metadata": {},
   "outputs": [],
   "source": [
    "X = np.array([imagedata[1]])\n",
    "Y = 47 - imagedata[0]"
   ]
  },
  {
   "cell_type": "code",
   "execution_count": 18,
   "metadata": {},
   "outputs": [
    {
     "data": {
      "text/plain": [
       "LinearRegression(copy_X=True, fit_intercept=True, n_jobs=None,\n",
       "         normalize=False)"
      ]
     },
     "execution_count": 18,
     "metadata": {},
     "output_type": "execute_result"
    }
   ],
   "source": [
    "from sklearn.preprocessing import PolynomialFeatures\n",
    "from sklearn.linear_model import LinearRegression\n",
    "\n",
    "poly_reg= PolynomialFeatures(degree = 2)\n",
    "X_ = poly_reg.fit_transform(X.T)\n",
    "regr = LinearRegression()\n",
    "regr.fit(X_, Y)"
   ]
  },
  {
   "cell_type": "code",
   "execution_count": 19,
   "metadata": {},
   "outputs": [
    {
     "data": {
      "text/plain": [
       "array([[  0,   1,   2,   3,   4,   5,   6,   7,   8,   9,  10,  11,  12,\n",
       "         13,  14,  15,  16,  17,  18,  19,  20,  21,  22,  23,  24,  25,\n",
       "         26,  27,  28,  29,  30,  31,  32,  33,  34,  35,  36,  37,  38,\n",
       "         39,  40,  41,  42,  43,  44,  45,  46,  47,  48,  49,  50,  51,\n",
       "         52,  53,  54,  55,  56,  57,  58,  59,  60,  61,  62,  63,  64,\n",
       "         65,  66,  67,  68,  69,  70,  71,  72,  73,  74,  75,  76,  77,\n",
       "         78,  79,  80,  81,  82,  83,  84,  85,  86,  87,  88,  89,  90,\n",
       "         91,  92,  93,  94,  95,  96,  97,  98,  99, 100, 101, 102, 103,\n",
       "        104, 105, 106, 107, 108, 109, 110, 111, 112, 113, 114, 115, 116,\n",
       "        117, 118]])"
      ]
     },
     "execution_count": 19,
     "metadata": {},
     "output_type": "execute_result"
    }
   ],
   "source": [
    "X2 = np.array([[i for i in range(0,119)]])\n",
    "X2"
   ]
  },
  {
   "cell_type": "code",
   "execution_count": 20,
   "metadata": {},
   "outputs": [],
   "source": [
    "X2_ = poly_reg.fit_transform(X2.T)"
   ]
  },
  {
   "cell_type": "code",
   "execution_count": 21,
   "metadata": {},
   "outputs": [
    {
     "name": "stdout",
     "output_type": "stream",
     "text": [
      "Populating the interactive namespace from numpy and matplotlib\n"
     ]
    },
    {
     "data": {
      "text/plain": [
       "[<matplotlib.lines.Line2D at 0xae9e950>]"
      ]
     },
     "execution_count": 21,
     "metadata": {},
     "output_type": "execute_result"
    },
    {
     "data": {
      "image/png": "[encoded data removed]",
      "text/plain": [
       "<Figure size 432x288 with 1 Axes>"
      ]
     },
     "metadata": {
      "needs_background": "light"
     },
     "output_type": "display_data"
    }
   ],
   "source": [
    "%pylab inline\n",
    "plt.scatter(X,Y, color=\"black\")\n",
    "plt.ylim(ymin=0)\n",
    "plt.ylim(ymax=47)\n",
    "plt.plot(X2.T, regr.predict(X2_), color= \"blue\", linewidth = 3)"
   ]
  },
  {
   "cell_type": "code",
   "execution_count": 22,
   "metadata": {},
   "outputs": [
    {
     "name": "stdout",
     "output_type": "stream",
     "text": [
      "Coefficient:[ 0.          0.15810754 -0.00036444]\n",
      "Intercept:25.5733530323\n"
     ]
    }
   ],
   "source": [
    "print('Coefficient:{}'.format(regr.coef_) )\n",
    "print('Intercept:{}'.format(regr.intercept_) )"
   ]
  },
  {
   "cell_type": "code",
   "execution_count": 23,
   "metadata": {},
   "outputs": [],
   "source": [
    "newimg =  cv2.cvtColor(thresh, cv2.COLOR_BGR2GRAY)"
   ]
  },
  {
   "cell_type": "code",
   "execution_count": 24,
   "metadata": {},
   "outputs": [],
   "source": [
    "for ele in np.column_stack([regr.predict(X2_).round(0),X2[0],] ):\n",
    "    pos = 47-int(ele[0])\n",
    "    #if newimg[pos-4:pos+4,int(ele[1])] == 255:\n",
    "    #newimg[pos-3:pos+3,int(ele[1])] = 0 \n",
    "    newimg[pos-3:pos+3,int(ele[1])] = 255 - newimg[pos-3:pos+3,int(ele[1])]"
   ]
  },
  {
   "cell_type": "code",
   "execution_count": 25,
   "metadata": {},
   "outputs": [
    {
     "data": {
      "text/plain": [
       "<matplotlib.image.AxesImage at 0xb012510>"
      ]
     },
     "execution_count": 25,
     "metadata": {},
     "output_type": "execute_result"
    },
    {
     "data": {
      "image/png": "[encoded data removed]",
      "text/plain": [
       "<Figure size 432x288 with 1 Axes>"
      ]
     },
     "metadata": {
      "needs_background": "light"
     },
     "output_type": "display_data"
    }
   ],
   "source": [
    "import matplotlib.pyplot as plt\n",
    "plt.subplot(121)\n",
    "plt.imshow(thresh)"
   ]
  },
  {
   "cell_type": "code",
   "execution_count": 26,
   "metadata": {},
   "outputs": [
    {
     "data": {
      "image/png": "[encoded data removed]",
      "text/plain": [
       "<Figure size 432x288 with 1 Axes>"
      ]
     },
     "metadata": {
      "needs_background": "light"
     },
     "output_type": "display_data"
    }
   ],
   "source": [
    "#plt.subplot(122)\n",
    "plt.imshow(newimg)\n",
    "plt.savefig('{}.png'.format('canCut'))"
   ]
  },
  {
   "cell_type": "code",
   "execution_count": 27,
   "metadata": {},
   "outputs": [
    {
     "data": {
      "image/png": "[encoded data removed]",
      "text/plain": [
       "<PIL.PngImagePlugin.PngImageFile image mode=RGBA size=432x288 at 0x9D4E5F0>"
      ]
     },
     "execution_count": 27,
     "metadata": {},
     "output_type": "execute_result"
    }
   ],
   "source": [
    "import cv2\n",
    "import requests\n",
    "# pip install --upgrade pillow\n",
    "\n",
    "\n",
    "# with open ('kaptch.jpg', 'wb') as f:\n",
    "#     res = requests.get('http://gcis.nat.gov.tw/pub/kaptch.jpg')\n",
    "#     f.write(res.content)\n",
    "from PIL import Image\n",
    "#image = Image.open('C:\\\\Users\\\\USER\\\\Desktop\\\\test\\\\captua1.png')\n",
    "image = Image.open('canCut.png')\n",
    "image"
   ]
  },
  {
   "cell_type": "code",
   "execution_count": 28,
   "metadata": {},
   "outputs": [],
   "source": [
    "import PIL\n",
    "import numpy\n",
    "pil_image = PIL.Image.open('canCut.png').convert('RGB')\n",
    "#pil_image = PIL.Image.open('C:\\\\Users\\\\USER\\\\Desktop\\\\test\\\\captua1.png').convert('RGB')\n",
    "open_cv_image = numpy.array(pil_image)"
   ]
  },
  {
   "cell_type": "code",
   "execution_count": 29,
   "metadata": {},
   "outputs": [
    {
     "name": "stdout",
     "output_type": "stream",
     "text": [
      "Populating the interactive namespace from numpy and matplotlib\n"
     ]
    },
    {
     "data": {
      "text/plain": [
       "<matplotlib.image.AxesImage at 0xaf3c610>"
      ]
     },
     "execution_count": 29,
     "metadata": {},
     "output_type": "execute_result"
    },
    {
     "data": {
      "image/png": "[encoded data removed]",
      "text/plain": [
       "<Figure size 432x288 with 1 Axes>"
      ]
     },
     "metadata": {
      "needs_background": "light"
     },
     "output_type": "display_data"
    }
   ],
   "source": [
    "%pylab inline\n",
    "from matplotlib import pyplot as plt\n",
    "plt.imshow(open_cv_image)"
   ]
  },
  {
   "cell_type": "code",
   "execution_count": 30,
   "metadata": {},
   "outputs": [],
   "source": [
    "imgray = cv2.cvtColor(open_cv_image, cv2.COLOR_BGR2GRAY)\n",
    "ret, thresh = cv2.threshold(imgray, 127, 255, 0)\n",
    "image, contours, hierarchy = cv2.findContours(thresh, cv2.RETR_TREE, cv2.CHAIN_APPROX_SIMPLE)\n",
    "cnts = sorted([(c, cv2.boundingRect(c)[0]) for c in contours], key = lambda x:x[1])"
   ]
  },
  {
   "cell_type": "code",
   "execution_count": 31,
   "metadata": {},
   "outputs": [
    {
     "name": "stdout",
     "output_type": "stream",
     "text": [
      "(1, 1, 430, 286)\n",
      "(34, 181, 9, 10)\n",
      "(35, 163, 5, 3)\n",
      "(35, 156, 6, 7)\n",
      "(35, 136, 6, 5)\n",
      "(35, 131, 5, 3)\n",
      "(35, 105, 6, 10)\n",
      "(36, 183, 3, 3)\n",
      "(37, 135, 3, 3)\n",
      "(38, 162, 3, 3)\n",
      "(38, 132, 3, 5)\n",
      "(40, 157, 3, 8)\n",
      "(40, 132, 3, 8)\n",
      "(40, 106, 3, 8)\n",
      "(41, 187, 5, 4)\n",
      "(41, 181, 5, 4)\n",
      "(41, 162, 5, 4)\n",
      "(41, 156, 5, 4)\n",
      "(41, 138, 5, 3)\n",
      "(41, 131, 5, 3)\n",
      "(41, 112, 5, 3)\n",
      "(41, 105, 5, 3)\n",
      "(41, 81, 3, 8)\n",
      "(42, 87, 4, 3)\n",
      "(42, 80, 4, 3)\n",
      "(44, 183, 3, 6)\n",
      "(44, 158, 3, 6)\n",
      "(44, 132, 3, 8)\n",
      "(44, 106, 3, 8)\n",
      "(44, 86, 3, 3)\n",
      "(44, 81, 3, 3)\n",
      "(45, 83, 3, 4)\n",
      "(51, 83, 340, 125)\n",
      "(53, 210, 3, 8)\n",
      "(54, 216, 4, 3)\n",
      "(54, 209, 4, 3)\n",
      "(55, 144, 2, 3)\n",
      "(55, 129, 9, 3)\n",
      "(56, 215, 3, 3)\n",
      "(56, 210, 3, 3)\n",
      "(57, 212, 3, 4)\n",
      "(62, 144, 2, 3)\n",
      "(67, 142, 5, 2)\n",
      "(69, 126, 5, 3)\n",
      "(74, 93, 315, 97)\n",
      "(82, 124, 5, 2)\n",
      "(90, 129, 2, 3)\n",
      "(99, 159, 4, 4)\n",
      "(100, 214, 6, 5)\n",
      "(100, 209, 5, 3)\n",
      "(102, 213, 3, 3)\n",
      "(103, 210, 3, 5)\n",
      "(104, 120, 7, 7)\n",
      "(105, 210, 3, 8)\n",
      "(106, 216, 5, 3)\n",
      "(106, 209, 5, 3)\n",
      "(109, 210, 3, 8)\n",
      "(117, 109, 23, 7)\n",
      "(122, 164, 4, 4)\n",
      "(122, 156, 7, 5)\n",
      "(122, 125, 4, 5)\n",
      "(124, 123, 20, 12)\n",
      "(134, 171, 5, 5)\n",
      "(142, 113, 27, 12)\n",
      "(145, 188, 3, 2)\n",
      "(150, 209, 9, 10)\n",
      "(150, 180, 3, 3)\n",
      "(152, 211, 3, 3)\n",
      "(152, 161, 5, 5)\n",
      "(157, 215, 5, 4)\n",
      "(157, 209, 5, 4)\n",
      "(160, 211, 3, 6)\n",
      "(161, 165, 2, 2)\n",
      "(167, 105, 63, 28)\n",
      "(171, 124, 2, 2)\n",
      "(172, 182, 5, 4)\n",
      "(177, 143, 5, 5)\n",
      "(180, 110, 12, 7)\n",
      "(182, 123, 40, 35)\n",
      "(190, 182, 5, 4)\n",
      "(202, 210, 8, 9)\n",
      "(203, 209, 5, 3)\n",
      "(203, 148, 4, 5)\n",
      "(204, 114, 2, 2)\n",
      "(205, 164, 5, 4)\n",
      "(208, 216, 5, 3)\n",
      "(208, 209, 5, 3)\n",
      "(211, 210, 3, 8)\n",
      "(223, 153, 7, 5)\n",
      "(226, 159, 4, 4)\n",
      "(226, 128, 4, 5)\n",
      "(228, 169, 5, 4)\n",
      "(228, 120, 25, 18)\n",
      "(229, 96, 3, 2)\n",
      "(231, 171, 4, 5)\n",
      "(234, 129, 3, 3)\n",
      "(243, 143, 5, 5)\n",
      "(253, 213, 6, 6)\n",
      "(253, 210, 3, 4)\n",
      "(253, 141, 5, 4)\n",
      "(254, 209, 5, 7)\n",
      "(254, 109, 3, 2)\n",
      "(257, 210, 4, 8)\n",
      "(259, 215, 5, 4)\n",
      "(259, 209, 5, 4)\n",
      "(259, 174, 7, 4)\n",
      "(261, 166, 7, 5)\n",
      "(262, 211, 3, 6)\n",
      "(270, 124, 2, 2)\n",
      "(276, 108, 23, 9)\n",
      "(297, 113, 24, 20)\n",
      "(300, 209, 6, 10)\n",
      "(304, 143, 5, 5)\n",
      "(305, 210, 3, 8)\n",
      "(306, 216, 5, 3)\n",
      "(306, 209, 5, 3)\n",
      "(308, 165, 2, 2)\n",
      "(309, 210, 3, 8)\n",
      "(310, 172, 3, 3)\n",
      "(311, 211, 3, 6)\n",
      "(312, 215, 5, 4)\n",
      "(312, 209, 5, 4)\n",
      "(314, 136, 5, 4)\n",
      "(315, 210, 3, 8)\n",
      "(340, 179, 4, 5)\n",
      "(350, 209, 6, 10)\n",
      "(351, 198, 2, 2)\n",
      "(355, 215, 7, 4)\n",
      "(355, 209, 7, 5)\n",
      "(357, 214, 3, 3)\n",
      "(358, 212, 3, 4)\n",
      "(361, 212, 3, 4)\n",
      "(362, 215, 3, 3)\n",
      "(362, 210, 3, 3)\n",
      "(363, 216, 4, 3)\n",
      "(363, 209, 4, 3)\n",
      "(365, 210, 3, 8)\n"
     ]
    }
   ],
   "source": [
    "ary =[]\n",
    "for (c,_) in cnts:\n",
    "    (x, y, w, h) = cv2.boundingRect(c)\n",
    "    print((x, y, w, h))\n",
    "    if w >= 20 and w <= 90 and h >=60 and h<=120:\n",
    "    #if w >=15 and h >10:\n",
    "        ary.append((x, y, w, h))"
   ]
  },
  {
   "cell_type": "code",
   "execution_count": 32,
   "metadata": {},
   "outputs": [
    {
     "name": "stdout",
     "output_type": "stream",
     "text": [
      "[]\n"
     ]
    }
   ],
   "source": [
    "print(ary)"
   ]
  },
  {
   "cell_type": "code",
   "execution_count": 33,
   "metadata": {},
   "outputs": [
    {
     "name": "stdout",
     "output_type": "stream",
     "text": [
      "Populating the interactive namespace from numpy and matplotlib\n"
     ]
    },
    {
     "data": {
      "text/plain": [
       "<matplotlib.image.AxesImage at 0xb368810>"
      ]
     },
     "execution_count": 33,
     "metadata": {},
     "output_type": "execute_result"
    },
    {
     "data": {
      "image/png": "[encoded data removed]",
      "text/plain": [
       "<Figure size 432x288 with 1 Axes>"
      ]
     },
     "metadata": {
      "needs_background": "light"
     },
     "output_type": "display_data"
    }
   ],
   "source": [
    "%pylab inline\n",
    "plt.imshow(open_cv_image)"
   ]
  },
  {
   "cell_type": "code",
   "execution_count": 34,
   "metadata": {},
   "outputs": [
    {
     "data": {
      "text/plain": [
       "<Figure size 432x288 with 0 Axes>"
      ]
     },
     "metadata": {},
     "output_type": "display_data"
    }
   ],
   "source": [
    "from matplotlib import pyplot as plt\n",
    "fig = plt.figure()\n",
    "for id, (x, y, w, h) in enumerate(ary):\n",
    "    roi = open_cv_image[y:y+h, x:x+w]\n",
    "    thresh = roi.copy()\n",
    "    a = fig.add_subplot(1, len(ary), id+1)\n",
    "    plt.imshow(thresh)"
   ]
  },
  {
   "cell_type": "code",
   "execution_count": 35,
   "metadata": {},
   "outputs": [],
   "source": [
    "from matplotlib import pyplot as plt\n",
    "for id, (x, y, w, h) in enumerate(ary):\n",
    "    fig = plt.figure()\n",
    "    roi = open_cv_image[y:y+h, x:x+w]\n",
    "    thresh = roi.copy()\n",
    "    plt.imshow(thresh)\n",
    "    plt.savefig('{}.png'.format(id+1), dpi=100)\n",
    "  "
   ]
  },
  {
   "cell_type": "code",
   "execution_count": null,
   "metadata": {},
   "outputs": [],
   "source": []
  },
  {
   "cell_type": "code",
   "execution_count": null,
   "metadata": {},
   "outputs": [],
   "source": []
  }
 ],
 "metadata": {
  "kernelspec": {
   "display_name": "Python 2",
   "language": "python",
   "name": "python2"
  },
  "language_info": {
   "codemirror_mode": {
    "name": "ipython",
    "version": 2
   },
   "file_extension": ".py",
   "mimetype": "text/x-python",
   "name": "python",
   "nbconvert_exporter": "python",
   "pygments_lexer": "ipython2",
   "version": "2.7.16"
  }
 },
 "nbformat": 4,
 "nbformat_minor": 2
}
